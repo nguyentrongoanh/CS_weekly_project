{
 "cells": [
  {
   "cell_type": "code",
   "execution_count": 16,
   "metadata": {},
   "outputs": [
    {
     "name": "stdout",
     "output_type": "stream",
     "text": [
      "<class 'bs4.element.Tag'>\n",
      "Hàng Quốc Tế/Laptop & Máy Vi Tính/Màn hình máy tính\n",
      "YES\n"
     ]
    }
   ],
   "source": [
    "import requests\n",
    "from bs4 import BeautifulSoup\n",
    "import re\n",
    "\n",
    "def get_url(url='https://tiki.vn/laptop-may-vi-tinh-linh-kien/c1846?src=c.1846.hamburger_menu_fly_out_banner&_lc=&is_cross_border=1'):\n",
    "    \"\"\"Get parsed HTML from url\n",
    "      Input: url to the webpage\n",
    "      Output: Parsed HTML text of the webpage\n",
    "    \"\"\"\n",
    "    # Send Get request\n",
    "    r = requests.get(url)\n",
    "\n",
    "    # Parse HTML text\n",
    "    soup = BeautifulSoup(r.text, 'html.parser')\n",
    "    \n",
    "    return soup\n",
    "\n",
    "soup = get_url()\n",
    "\n",
    "# select the tag that contains the product\n",
    "product = soup.find('div', {'class':'product-item'})\n",
    "print(type(product))\n",
    "category = product['data-category']\n",
    "print(category)\n",
    "if 'Quốc Tế' in category:\n",
    "    ship_status = 'YES'\n",
    "else:\n",
    "    ship_status = 'NO'\n",
    "print(ship_status)\n",
    "name = product['data-title']\n",
    "#print(name)\n",
    "# select the url\n",
    "url = product.a['href']\n",
    "#print(url)\n",
    "image_url = product.find('img', {'class':'product-image img-responsive'})['src']\n",
    "#print(image_url)\n",
    "# Check if TikiNow is available\n",
    "\n",
    "# Get final price, sale tag and regular price and store it in a set to remove the duplicate sale tag\n",
    "price_sale = list(product.find('p', {'class':'price-sale'}).text.split())[2]\n",
    "#print(price_sale)\n",
    "\n",
    "# Check if installment is available, if yes print the text, if no print 'None' \n",
    "if product.find('p', {'class':'installment'}):\n",
    "    installment = product.find('p', {'class':'installment'}).text\n",
    "else:\n",
    "    installment = 'None'\n",
    "#print(installment)\n",
    "\n",
    "# check sponsor\n",
    "    if 'Tài trợ' in product.find('div', {'class':'ship-label-wrapper'}):\n",
    "        sponsor = 'YES'\n",
    "    else:\n",
    "        sponsor = 'NO'\n",
    "    \n",
    "#print(sponsor)\n",
    "\n",
    "#if product.find('p', {'class':'ship-label'}):\n",
    "\n",
    "    \n",
    "# Get the number of review\n",
    "number_of_review = product.find('p', {'class':'review'}).text \n",
    "#print(number_of_review)\n",
    "\n",
    "# count the number of stars\n",
    "rating = product.find('span', {'class':'rating-content'}).span['style']\n",
    "width = rating[-3:-1]\n",
    "#print(width)\n",
    "\n",
    "\n",
    "\n",
    "#function tinh so sao\n",
    "#get rid of hang chinh hang\n",
    "# loops through page\n",
    "#sleeps\n",
    "\n",
    "    "
   ]
  },
  {
   "cell_type": "code",
   "execution_count": null,
   "metadata": {},
   "outputs": [],
   "source": []
  },
  {
   "cell_type": "code",
   "execution_count": null,
   "metadata": {},
   "outputs": [],
   "source": []
  }
 ],
 "metadata": {
  "kernelspec": {
   "display_name": "Python 3",
   "language": "python",
   "name": "python3"
  },
  "language_info": {
   "codemirror_mode": {
    "name": "ipython",
    "version": 3
   },
   "file_extension": ".py",
   "mimetype": "text/x-python",
   "name": "python",
   "nbconvert_exporter": "python",
   "pygments_lexer": "ipython3",
   "version": "3.7.8"
  }
 },
 "nbformat": 4,
 "nbformat_minor": 4
}
