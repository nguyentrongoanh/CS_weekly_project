{
 "cells": [
  {
   "cell_type": "code",
   "execution_count": 11,
   "metadata": {},
   "outputs": [
    {
     "name": "stdout",
     "output_type": "stream",
     "text": [
      "<class 'bs4.element.Tag'>\n",
      "Laptop - Máy Vi Tính - Linh kiện/Laptop/Laptop Truyền Thống\n",
      "NO\n",
      "<class 'bs4.element.Tag'>\n"
     ]
    },
    {
     "ename": "AttributeError",
     "evalue": "'NoneType' object has no attribute 'span'",
     "output_type": "error",
     "traceback": [
      "\u001b[0;31m---------------------------------------------------------------------------\u001b[0m",
      "\u001b[0;31mAttributeError\u001b[0m                            Traceback (most recent call last)",
      "\u001b[0;32m<ipython-input-11-cdba4289a5a6>\u001b[0m in \u001b[0;36m<module>\u001b[0;34m\u001b[0m\n\u001b[1;32m     68\u001b[0m \u001b[0;34m\u001b[0m\u001b[0m\n\u001b[1;32m     69\u001b[0m \u001b[0;31m# count the number of stars\u001b[0m\u001b[0;34m\u001b[0m\u001b[0;34m\u001b[0m\u001b[0;34m\u001b[0m\u001b[0m\n\u001b[0;32m---> 70\u001b[0;31m \u001b[0mrating\u001b[0m \u001b[0;34m=\u001b[0m \u001b[0mproduct\u001b[0m\u001b[0;34m.\u001b[0m\u001b[0mfind\u001b[0m\u001b[0;34m(\u001b[0m\u001b[0;34m'span'\u001b[0m\u001b[0;34m,\u001b[0m \u001b[0;34m{\u001b[0m\u001b[0;34m'class'\u001b[0m\u001b[0;34m:\u001b[0m\u001b[0;34m'rating-content'\u001b[0m\u001b[0;34m}\u001b[0m\u001b[0;34m)\u001b[0m\u001b[0;34m.\u001b[0m\u001b[0mspan\u001b[0m\u001b[0;34m[\u001b[0m\u001b[0;34m'style'\u001b[0m\u001b[0;34m]\u001b[0m\u001b[0;34m\u001b[0m\u001b[0;34m\u001b[0m\u001b[0m\n\u001b[0m\u001b[1;32m     71\u001b[0m \u001b[0mwidth\u001b[0m \u001b[0;34m=\u001b[0m \u001b[0mrating\u001b[0m\u001b[0;34m[\u001b[0m\u001b[0;34m-\u001b[0m\u001b[0;36m3\u001b[0m\u001b[0;34m:\u001b[0m\u001b[0;34m-\u001b[0m\u001b[0;36m1\u001b[0m\u001b[0;34m]\u001b[0m\u001b[0;34m\u001b[0m\u001b[0;34m\u001b[0m\u001b[0m\n\u001b[1;32m     72\u001b[0m \u001b[0;31m#print(width)\u001b[0m\u001b[0;34m\u001b[0m\u001b[0;34m\u001b[0m\u001b[0;34m\u001b[0m\u001b[0m\n",
      "\u001b[0;31mAttributeError\u001b[0m: 'NoneType' object has no attribute 'span'"
     ]
    }
   ],
   "source": [
    "import requests\n",
    "from bs4 import BeautifulSoup\n",
    "import re\n",
    "\n",
    "def get_url(url='https://tiki.vn/laptop/c8095?src=static_block&_lc=Vk4wMzkwMTAwMDI%3D&page=15'):\n",
    "    \"\"\"Get parsed HTML from url\n",
    "      Input: url to the webpage\n",
    "      Output: Parsed HTML text of the webpage\n",
    "    \"\"\"\n",
    "    # Send Get request\n",
    "    r = requests.get(url)\n",
    "\n",
    "    # Parse HTML text\n",
    "    soup = BeautifulSoup(r.text, 'html.parser')\n",
    "    \n",
    "    return soup\n",
    "\n",
    "soup = get_url()\n",
    "\n",
    "# select the tag that contains the product\n",
    "product = soup.find('div', {'class':'product-item'})\n",
    "print(type(product))\n",
    "category = product['data-category']\n",
    "print(category)\n",
    "if 'Quốc Tế' in category:\n",
    "    ship_status = 'YES'\n",
    "else:\n",
    "    ship_status = 'NO'\n",
    "print(ship_status)\n",
    "name = product['data-title']\n",
    "#print(name)\n",
    "# select the url\n",
    "url = product.a['href']\n",
    "#print(url)\n",
    "image_url = product.find('img', {'class':'product-image img-responsive'})['src']\n",
    "#print(image_url)\n",
    "# Check if TikiNow is available\n",
    "\n",
    "# Get final price, sale tag and regular price and store it in a set to remove the duplicate sale tag\n",
    "price_sale = list(product.find('p', {'class':'price-sale'}).text.split())[2]\n",
    "#print(price_sale)\n",
    "\n",
    "# Check if installment is available, if yes print the text, if no print 'None' \n",
    "if product.find('p', {'class':'installment'}):\n",
    "    installment = product.find('p', {'class':'installment'}).text\n",
    "else:\n",
    "    installment = 'None'\n",
    "#print(installment)\n",
    "\n",
    "# check sponsor\n",
    "    if 'Tài trợ' in product.find('div', {'class':'ship-label-wrapper'}):\n",
    "        sponsor = 'YES'\n",
    "    else:\n",
    "        sponsor = 'NO'\n",
    "\n",
    "product_list = soup.find('div', {'class':'product-box-list'}).find('div', {'class': 'product-item'})        \n",
    "print(type(product_list))      \n",
    "\n",
    "\n",
    "#print(sponsor)\n",
    "\n",
    "#if product.find('p', {'class':'ship-label'}):\n",
    "\n",
    "    \n",
    "# Get the number of review\n",
    "number_of_review = product.find('p', {'class':'review'}).text \n",
    "#print(number_of_review)\n",
    "\n",
    "# count the number of stars\n",
    "rating = product.find('span', {'class':'rating-content'}).span['style']\n",
    "width = rating[-3:-1]\n",
    "#print(width)\n",
    "\n",
    "\n",
    "\n",
    "#function tinh so sao\n",
    "#get rid of hang chinh hang\n",
    "# loops through page\n",
    "#sleeps\n",
    "\n",
    "    "
   ]
  },
  {
   "cell_type": "code",
   "execution_count": null,
   "metadata": {},
   "outputs": [],
   "source": []
  },
  {
   "cell_type": "code",
   "execution_count": null,
   "metadata": {},
   "outputs": [],
   "source": []
  }
 ],
 "metadata": {
  "kernelspec": {
   "display_name": "Python 3",
   "language": "python",
   "name": "python3"
  },
  "language_info": {
   "codemirror_mode": {
    "name": "ipython",
    "version": 3
   },
   "file_extension": ".py",
   "mimetype": "text/x-python",
   "name": "python",
   "nbconvert_exporter": "python",
   "pygments_lexer": "ipython3",
   "version": "3.7.8"
  }
 },
 "nbformat": 4,
 "nbformat_minor": 4
}
