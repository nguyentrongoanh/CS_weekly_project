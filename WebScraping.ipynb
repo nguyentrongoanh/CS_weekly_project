{
 "cells": [
  {
   "cell_type": "code",
   "execution_count": 22,
   "metadata": {},
   "outputs": [
    {
     "name": "stdout",
     "output_type": "stream",
     "text": [
      "Hàng Quốc Tế/Laptop & Máy Vi Tính/Màn hình máy tính\n",
      "Giá Đỡ Màn Hình Brateck LDT12-C011\n",
      "{'1.017.000đ', '498.000đ', '-51%'}\n",
      "\n",
      "Trả góp 0%\n",
      "\n",
      "(10 nhận xét)\n",
      "width:98%\n",
      "98\n",
      "\n",
      "\n",
      "\n",
      "                        Hàng quốc tế\n",
      "                    \n",
      "\n",
      "https://salt.tikicdn.com/cache/280x280/ts/product/45/04/08/2d8f6ed4b049057ee24fa586508b3235.jpg\n"
     ]
    }
   ],
   "source": [
    "import requests\n",
    "from bs4 import BeautifulSoup\n",
    "import re\n",
    "\n",
    "def get_url(url='https://tiki.vn/laptop-may-vi-tinh-linh-kien/c1846?src=c.1846.hamburger_menu_fly_out_banner&_lc=Vk4wMzkwMTIwMDI%3D&is_cross_border=1'):\n",
    "    \"\"\"Get parsed HTML from url\n",
    "      Input: url to the webpage\n",
    "      Output: Parsed HTML text of the webpage\n",
    "    \"\"\"\n",
    "    # Send Get request\n",
    "    r = requests.get(url)\n",
    "\n",
    "    # Parse HTML text\n",
    "    soup = BeautifulSoup(r.text, 'html.parser')\n",
    "    \n",
    "    return soup\n",
    "\n",
    "soup = get_url()\n",
    "\n",
    "#get the text in the product-box-list class\n",
    "product_list = soup.find('div', {'class':'product-box-list'})\n",
    "\n",
    "#get the first product or first a\n",
    "#all_product = product_list.find_all('a')\n",
    "first_product = product_list.find('div', {'class':'product-item'})\n",
    "first_product_category = first_product['data-category']\n",
    "print(first_product_category)\n",
    "first_product_title = first_product['data-title']\n",
    "print(first_product_title)\n",
    "first_product_final_price_sale_tag = first_product.find('p', {'class':'price-sale'}).text\n",
    "prices = set(first_product_final_price_sale_tag.split())\n",
    "print(prices)\n",
    "\n",
    "if first_product.find('p', {'class':'installment'}):\n",
    "    first_product_installment = first_product.find('p', {'class':'installment'}).text\n",
    "print(first_product_installment)\n",
    "\n",
    "first_product_review = first_product.find('p', {'class':'review'}).text\n",
    "print(first_product_review)\n",
    "first_product_rating = first_product.find('span', {'class':'rating-content'})\n",
    "print(first_product_rating.span['style'])\n",
    "percent_star_full = first_product_rating.span['style']\n",
    "percent_star_in_number = percent_star_full[-3:-1]\n",
    "print(percent_star_in_number)\n",
    "#tiki now\n",
    "\n",
    "#giao hang nuoc ngoai\n",
    "if first_product.find('div', {'class':'ship-label-wrapper'}):\n",
    "    first_product_ship_label = first_product.find('div', {'class':'ship-label-wrapper'}).text\n",
    "print(first_product_ship_label)\n",
    "\n",
    "#image\n",
    "first_product_image = first_product.find('img', {'class', 'product-image img-responsive'})['src']\n",
    "print(first_product_image)\n",
    "\n",
    "#function tinh so sao\n",
    "#get rid of hang chinh hang\n",
    "# loops through page\n",
    "#sleeps\n"
   ]
  },
  {
   "cell_type": "code",
   "execution_count": null,
   "metadata": {},
   "outputs": [],
   "source": []
  },
  {
   "cell_type": "code",
   "execution_count": null,
   "metadata": {},
   "outputs": [],
   "source": []
  }
 ],
 "metadata": {
  "kernelspec": {
   "display_name": "Python 3",
   "language": "python",
   "name": "python3"
  },
  "language_info": {
   "codemirror_mode": {
    "name": "ipython",
    "version": 3
   },
   "file_extension": ".py",
   "mimetype": "text/x-python",
   "name": "python",
   "nbconvert_exporter": "python",
   "pygments_lexer": "ipython3",
   "version": "3.7.8"
  }
 },
 "nbformat": 4,
 "nbformat_minor": 4
}
