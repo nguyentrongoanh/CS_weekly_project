{
 "cells": [
  {
   "cell_type": "code",
   "execution_count": 2,
   "metadata": {},
   "outputs": [
    {
     "name": "stdout",
     "output_type": "stream",
     "text": [
      "[{'Category': 'Laptop - Máy Vi Tính - Linh kiện/Laptop/Laptop Truyền Thống', 'Name': 'Laptop Asus ASUSPRO B9440UA-GV0495T (Core i5-8250U/ 8GB LPDDR3-2133MHz/ 256GB SSD M.2/ 14 FHD IPS/ Win10) - Hàng Chính Hãng', 'Url': 'https://tiki.vn/laptop-asus-asuspro-b9440ua-gv0495t-core-i5-8250u-8gb-lpddr3-2133mhz-256gb-ssd-m-2-14-fhd-ips-win10-hang-chinh-hang-p11007488.html?spid=11007489&src=category-page-1846&2hi=0', 'Image_url': 'https://salt.tikicdn.com/cache/280x280/ts/product/4d/b1/db/3e4ed7f0a02d017d7086bbce1d640820.jpg', 'Final_price': 17139000, 'Regular_price': 26990000, 'Discount': 36, 'Installment': 'YES', 'Cross_border': 'NO', 'Sponsor': 'NO', 'Reviews': 7, 'Rating': 86, 'Rating_by_stars': 4.3}, {'Category': 'Laptop - Máy Vi Tính - Linh kiện/Thiết Bị Văn Phòng - Thiết Bị Ngoại Vi/Màn Hình Máy Tính/Màn Hình Phổ Thông', 'Name': 'Màn Hình Máy Tính Cong Full Viền 24inch 75Hz Mới HUGON Q24 sử dụng cáp HDMI - CHUYÊN DÙNG GAMER - Văn Phòng - Học Tập - Hàng Nhập Khẩu', 'Url': 'https://tiki.vn/man-hinh-may-tinh-cong-full-vien-24inch-75hz-moi-hugon-q24-su-dung-cap-hdmi-chuyen-dung-gamer-van-phong-hoc-tap-hang-nhap-khau-p45620327.html?spid=55638131&src=category-page-1846&2hi=0', 'Image_url': 'https://salt.tikicdn.com/cache/280x280/ts/product/f8/eb/10/df606a7d1ad8588a59691681d6a8428c.png', 'Final_price': 1495000, 'Regular_price': 1900000, 'Discount': 21, 'Installment': 'NO', 'Cross_border': 'NO', 'Sponsor': 'NO', 'Reviews': 147, 'Rating': 84, 'Rating_by_stars': 4.2}, {'Category': 'Laptop - Máy Vi Tính - Linh kiện/Laptop/Macbook', 'Name': 'Apple Macbook Air 2020 - 13 Inchs (i3-10th/ 8GB/ 256GB) - Hàng Nhập Khẩu Chính Hãng', 'Url': 'https://tiki.vn/apple-macbook-air-2020-13-inchs-i3-10th-8gb-256gb-hang-nhap-khau-chinh-hang-p52179836.html?spid=52179838&src=category-page-1846&2hi=0', 'Image_url': 'https://salt.tikicdn.com/cache/280x280/ts/product/56/c4/a9/bd0538985a7d3031ad7168a8953b08fe.jpg', 'Final_price': 24499000, 'Regular_price': 32990000, 'Discount': 26, 'Installment': 'YES', 'Cross_border': 'NO', 'Sponsor': 'NO', 'Reviews': 32, 'Rating': 86, 'Rating_by_stars': 4.3}, {'Category': 'Laptop - Máy Vi Tính - Linh kiện/Laptop/Laptop Truyền Thống', 'Name': 'Laptop HP ENVY 13-aq1022TU 8QN69PA (Core i5-10210U/ 8GB/ 512GB SSD/ 13.3 FHD/ WIN10) - Hàng Chính Hãng', 'Url': 'https://tiki.vn/laptop-hp-envy-13-aq1022tu-8qn69pa-core-i5-10210u-8gb-512gb-ssd-13-3-fhd-win10-hang-chinh-hang-p45023084.html?spid=45023085&src=category-page-1846&2hi=0', 'Image_url': 'https://salt.tikicdn.com/cache/280x280/ts/product/26/c7/02/4e037f915c484176029d3be4d3e45da0.jpg', 'Final_price': 20979000, 'Regular_price': 22690000, 'Discount': 8, 'Installment': 'YES', 'Cross_border': 'NO', 'Sponsor': 'NO', 'Reviews': 7, 'Rating': 94, 'Rating_by_stars': 4.7}, {'Category': 'Thiết Bị Số - Phụ Kiện Số/Phụ kiện máy tính và Laptop/Phụ Kiện Phím Chuột Văn Phòng/Chuột Văn Phòng/Chuột Văn Phòng Có Dây', 'Name': 'Chuột Có Dây Logitech B100 - Hàng Chính Hãng', 'Url': 'https://tiki.vn/chuot-co-day-logitech-b100-hang-chinh-hang-p356188.html?spid=49932&src=category-page-1846&2hi=0', 'Image_url': 'https://salt.tikicdn.com/cache/280x280/ts/product/11/95/4d/a9c21fbe61ce96d66c06582a49791381.jpg', 'Final_price': 65000, 'Regular_price': 90000, 'Discount': 28, 'Installment': 'NO', 'Cross_border': 'NO', 'Sponsor': 'NO', 'Reviews': 843, 'Rating': 92, 'Rating_by_stars': 4.6}, {'Category': 'Laptop - Máy Vi Tính - Linh kiện/Thiết Bị Mạng/Bộ Kích Sóng Wifi', 'Name': 'Bộ Kích Sóng Wifi Repeater 300Mbps Totolink EX200 - Hàng Chính Hãng', 'Url': 'https://tiki.vn/bo-kich-song-wifi-repeater-300mbps-totolink-ex200-hang-chinh-hang-p547563.html?spid=271577&src=category-page-1846&2hi=0', 'Image_url': 'https://salt.tikicdn.com/cache/280x280/media/catalog/product/e/x/ex200-2.u425.d20170309.t162916.222253.jpg', 'Final_price': 193000, 'Regular_price': 273000, 'Discount': 29, 'Installment': 'NO', 'Cross_border': 'NO', 'Sponsor': 'NO', 'Reviews': 1130, 'Rating': 82, 'Rating_by_stars': 4.1}, {'Category': 'Laptop - Máy Vi Tính - Linh kiện/Thiết Bị Văn Phòng - Thiết Bị Ngoại Vi/Phần Mềm Máy Tính', 'Name': 'Phần Mềm Diệt Virus BKAV Profressional 1 PC 12 Tháng - Hàng Chính Hãng', 'Url': 'https://tiki.vn/phan-mem-diet-virus-bkav-profressional-1-pc-12-thang-hang-chinh-hang-p3054369.html?spid=3054371&src=category-page-1846&2hi=0', 'Image_url': 'https://salt.tikicdn.com/cache/280x280/ts/product/18/be/cd/4a65824211f0a54f7d530a923f8ddb81.jpg', 'Final_price': 195000, 'Regular_price': 299000, 'Discount': 35, 'Installment': 'NO', 'Cross_border': 'NO', 'Sponsor': 'NO', 'Reviews': 542, 'Rating': 98, 'Rating_by_stars': 4.9}, {'Category': 'Laptop - Máy Vi Tính - Linh kiện/Thiết Bị Văn Phòng - Thiết Bị Ngoại Vi/Màn Hình Máy Tính/Màn Hình Phổ Thông', 'Name': 'Màn Hình HP 24inch Full HD 5ms 60Hz IPS LED 24FW 3KS63AA - Hàng Chính Hãng', 'Url': 'https://tiki.vn//t.ants.vn/a3/c/?bc=e44842b58e,pageview,1596271750,visitor,1,7496227197,638770403,1345241239,10384,1,10850037181,10850035181,1,0_1&t_rls=7496227197-638770407-0-1100&t_s=7496227197-10850037181-1345241239:1&t_kw=&t_z=&t_age=7496227197-10850037181-2:1.0&t_gd=7496227197-10850037181-2:1.0&t_tp=&t_itr=&t_imk=&t_rm=&c_tp=&c_itr=&c_imk=&c_rm=&ti_area=29:1:VN&ti_gd=1&ti_age=4&ti_pl=1&ti_nw=:::1000&ti_dv=1:1:5:10:169:487613&skw=&aid=visitor&cv=6d02c86a&nspace=tiki&action_name=×tamp=1596271750894&url=&urlref=&hostname=&gent=&format=33&template=0&res=&gd=1&loc=29-1-vn&device_model=desktop&redirect=https%3A%2F%2Ftiki.vn%2Fman-hinh-hp-24inch-full-hd-5ms-60hz-ips-led-24fw-3ks63aa-hang-chinh-hang-p14089477.html%3Fspid%3D16863323&prd_imp=7496227197-10850037181-2122552579:1&pos=8', 'Image_url': 'https://salt.tikicdn.com/cache/280x280/ts/product/1a/c0/ff/6d8930b1633bf331bc20549eb77a7591.jpg', 'Final_price': 3990000, 'Regular_price': 4300000, 'Discount': 7, 'Installment': 'YES', 'Cross_border': 'NO', 'Sponsor': 'YES', 'Reviews': 1, 'Rating': 40, 'Rating_by_stars': 2.0}, {'Category': 'Thiết Bị Số - Phụ Kiện Số/Phụ kiện máy tính và Laptop/Phụ Kiện Phím Chuột Văn Phòng/Bàn Phím Văn Phòng', 'Name': 'Bàn Phím Có Dây Dell KB216 - Đen - Hàng Chính Hãng', 'Url': 'https://tiki.vn/ban-phim-co-day-dell-kb216-den-hang-chinh-hang-p646020.html?spid=11605007&src=category-page-1846&2hi=0', 'Image_url': 'https://salt.tikicdn.com/cache/280x280/media/catalog/product/2/3/23884_ban_phim_dell_kb216b_01.u2409.d20170517.t091608.808367.jpg', 'Final_price': 145000, 'Regular_price': 250000, 'Discount': 42, 'Installment': 'NO', 'Cross_border': 'NO', 'Sponsor': 'NO', 'Reviews': 553, 'Rating': 92, 'Rating_by_stars': 4.6}, {'Category': 'Laptop - Máy Vi Tính - Linh kiện/Thiết Bị Lưu Trữ/USB', 'Name': 'USB Kingston DT100G3 32GB USB 3.0 - Hàng Chính Hãng', 'Url': 'https://tiki.vn/usb-kingston-dt100g3-32gb-usb-3-0-hang-chinh-hang-p405243.html?spid=107557&src=category-page-1846&2hi=0', 'Image_url': 'https://salt.tikicdn.com/cache/280x280/ts/product/fe/2a/37/34e6ca6587338ccf18f312d7b9b2ea3c.jpg', 'Final_price': 107000, 'Regular_price': 365000, 'Discount': 71, 'Installment': 'NO', 'Cross_border': 'NO', 'Sponsor': 'NO', 'Reviews': 1121, 'Rating': 86, 'Rating_by_stars': 4.3}, {'Category': 'Thiết Bị Số - Phụ Kiện Số/Phụ kiện máy tính và Laptop/Phụ Kiện Phím Chuột Văn Phòng/Bàn Phím Văn Phòng', 'Name': 'Bàn Phím Có Dây Logitech K120 - Hàng Chính Hãng', 'Url': 'https://tiki.vn/ban-phim-co-day-logitech-k120-hang-chinh-hang-p359484.html?spid=54347&src=category-page-1846&2hi=0', 'Image_url': 'https://salt.tikicdn.com/cache/280x280/media/catalog/product/k/1/k120-refresh-gallery-images.u3059.d20170508.t165045.733325.jpg', 'Final_price': 128000, 'Regular_price': 209000, 'Discount': 39, 'Installment': 'NO', 'Cross_border': 'NO', 'Sponsor': 'NO', 'Reviews': 418, 'Rating': 92, 'Rating_by_stars': 4.6}, {'Category': 'Laptop - Máy Vi Tính - Linh kiện/Thiết Bị Văn Phòng - Thiết Bị Ngoại Vi/Màn Hình Máy Tính/Màn Hình Phổ Thông', 'Name': 'Màn hình HP V220 (21.5 Inch/FULLHD/60HZ/5Ms/TN with LED backlight/Jack black-4CJ27AA) - Hàng Chính Hãng', 'Url': 'https://tiki.vn//t.ants.vn/a3/c/?bc=ccf076f45d,pageview,1596271750,visitor,1,7496227197,638770403,1345241239,10384,1,10850037783,10850035181,1,0_1&t_rls=7496227197-638770407-0-1100&t_s=7496227197-10850037783-1345241239:1&t_kw=&t_z=&t_age=7496227197-10850037783-3:1.0&t_gd=7496227197-10850037783-2:1.0&t_tp=&t_itr=&t_imk=&t_rm=&c_tp=&c_itr=&c_imk=&c_rm=&ti_area=29:1:VN&ti_gd=2&ti_age=3&ti_pl=1&ti_nw=:::1000&ti_dv=1:1:5:10:169:487613&skw=&aid=visitor&cv=6d02c86a&nspace=tiki&action_name=×tamp=1596271750899&url=&urlref=&hostname=&gent=&format=33&template=0&res=&gd=2&loc=29-1-vn&device_model=desktop&redirect=https%3A%2F%2Ftiki.vn%2Fman-hinh-hp-v220-215-inchfullhd60hz5mstn-with-led-backlightjack-black4cj27aa-hang-chinh-hang-p32480970.html%3Fspid%3D32480971&prd_imp=7496227197-10850037783-2304100791:1&pos=12', 'Image_url': 'https://salt.tikicdn.com/cache/280x280/ts/product/6c/3b/74/ced315c63904f97fb4d1414020294a50.jpg', 'Final_price': 2290000, 'Regular_price': 2490000, 'Discount': 8, 'Installment': 'NO', 'Cross_border': 'NO', 'Sponsor': 'YES', 'Reviews': 1, 'Rating': 80, 'Rating_by_stars': 4.0}, {'Category': 'Laptop - Máy Vi Tính - Linh kiện/Thiết Bị Lưu Trữ/USB', 'Name': 'USB Kingston DT100G3 - 64GB - USB 3.0 - Hàng Chính Hãng', 'Url': 'https://tiki.vn/usb-kingston-dt100g3-64gb-usb-3-0-hang-chinh-hang-p405252.html?spid=107566&src=category-page-1846&2hi=0', 'Image_url': 'https://salt.tikicdn.com/cache/280x280/media/catalog/product/6/4/64_1.jpg', 'Final_price': 170000, 'Regular_price': 740000, 'Discount': 77, 'Installment': 'NO', 'Cross_border': 'NO', 'Sponsor': 'NO', 'Reviews': 241, 'Rating': 84, 'Rating_by_stars': 4.2}, {'Category': 'Laptop - Máy Vi Tính - Linh kiện/Thiết Bị Lưu Trữ/Ổ Cứng Gắn Trong/Ổ Cứng SSD', 'Name': 'Ổ Cứng SSD WD Green 240GB 3D NAND - WDS240G2G0A - Hàng Chính Hãng', 'Url': 'https://tiki.vn/o-cung-ssd-wd-green-240gb-3d-nand-wds240g2g0a-hang-chinh-hang-p964243.html?spid=4375475&src=category-page-1846&2hi=0', 'Image_url': 'https://salt.tikicdn.com/cache/280x280/ts/product/91/e5/5e/acb318cc06a9c15824535b7443d1a905.jpg', 'Final_price': 734000, 'Regular_price': 1000000, 'Discount': 27, 'Installment': 'NO', 'Cross_border': 'NO', 'Sponsor': 'NO', 'Reviews': 363, 'Rating': 92, 'Rating_by_stars': 4.6}, {'Category': 'Laptop - Máy Vi Tính - Linh kiện/Thiết Bị Lưu Trữ/Case Ổ Cứng- Hộp Đựng HDD Box - Dock Ổ Cứng', 'Name': 'Hộp Đựng Ổ Cứng Di Động HDD Box 2.5 ORICO 2139U3 USB3.0/2.5 Nhựa Trong Suốt - Hàng Chính Hãng', 'Url': 'https://tiki.vn/hop-dung-o-cung-di-dong-hdd-box-2-5-orico-2139u3-usb3-0-2-5-nhua-trong-suot-hang-chinh-hang-p575388.html?spid=311707&src=category-page-1846&2hi=0', 'Image_url': 'https://salt.tikicdn.com/cache/280x280/media/catalog/product/d/s/dsc_3443.u2470.d20170303.t165942.339871.jpg', 'Final_price': 108989, 'Regular_price': 149000, 'Discount': 27, 'Installment': 'NO', 'Cross_border': 'NO', 'Sponsor': 'NO', 'Reviews': 545, 'Rating': 92, 'Rating_by_stars': 4.6}, {'Category': 'Laptop - Máy Vi Tính - Linh kiện/PC - Máy Tính Bộ/Máy Tính Để Bàn Lắp Ráp', 'Name': 'Bộ Máy Tính Để Bàn Dell Optiplex ( G620 / 8gb / SSD 120GB ) Và Màn Hình  19 inch - Tặng Bàn Phím Chuột + Lót Chuột + USB Wiif. - Hàng Nhập Khẩu', 'Url': 'https://tiki.vn//t.ants.vn/a3/c/?bc=ad58444084,pageview,1596271750,visitor,1,7496227197,638770403,1345241239,10384,1,8593379091,8593376485,1,0_1&t_rls=7496227197-638770407-0-500&t_s=7496227197-8593379091-1345241239:1&t_kw=&t_z=&t_age=7496227197-8593379091-3:1.0&t_gd=7496227197-8593379091-2:1.0&t_tp=&t_itr=&t_imk=&t_rm=&c_tp=&c_itr=&c_imk=&c_rm=&ti_area=29:1:VN&ti_gd=1&ti_age=3&ti_pl=1&ti_nw=:::1000&ti_dv=1:1:5:10:169:487613&skw=&aid=visitor&cv=9cc4951d&nspace=tiki&action_name=×tamp=1596271750904&url=&urlref=&hostname=&gent=&format=33&template=0&res=&gd=1&loc=29-1-vn&device_model=desktop&redirect=https%3A%2F%2Ftiki.vn%2Fbo-may-tinh-de-ban-dell-optiplex-g620-8gb-ssd-120gb-va-man-hinh-19-inch-tang-ban-phim-chuot-lot-chuot-usb-wiif-hang-nhap-khau-p24430832.html%3Fspid%3D24430836&prd_imp=7496227197-8593379091-1660397709:1&pos=16', 'Image_url': 'https://salt.tikicdn.com/cache/280x280/ts/product/d0/5f/ac/08fed53a92d8b3368450db26139bb81e.jpg', 'Final_price': 4769000, 'Regular_price': 7000000, 'Discount': 32, 'Installment': 'NO', 'Cross_border': 'NO', 'Sponsor': 'YES', 'Reviews': 3, 'Rating': 94, 'Rating_by_stars': 4.7}, {'Category': 'Laptop - Máy Vi Tính - Linh kiện/Thiết Bị Mạng/Bộ Phát Wifi Di Động 3G/4G - Mifi', 'Name': 'Thiết Bị Phát Wifi Di Động 4G LTE-Advanced TP-Link M7350 V5 150Mbps - Hàng Chính Hãng', 'Url': 'https://tiki.vn/thiet-bi-phat-wifi-di-dong-4g-lte-advanced-tp-link-m7350-v5-150mbps-hang-chinh-hang-p465219.html?spid=174237&src=category-page-1846&2hi=0', 'Image_url': 'https://salt.tikicdn.com/cache/280x280/ts/product/28/68/ad/2099249633fc81f51a39c3aff64417b0.jpg', 'Final_price': 1250000, 'Regular_price': 1890000, 'Discount': 34, 'Installment': 'NO', 'Cross_border': 'NO', 'Sponsor': 'NO', 'Reviews': 669, 'Rating': 86, 'Rating_by_stars': 4.3}, {'Category': 'Laptop - Máy Vi Tính - Linh kiện/Thiết Bị Mạng/Thiết Bị Phát Sóng Wifi/Router Wifi', 'Name': 'TP-Link  TL-WR841N - Router Wifi Chuẩn N Tốc Độ 300Mbps - Hàng Chính Hãng', 'Url': 'https://tiki.vn/tp-link-tl-wr841n-router-wifi-chuan-n-toc-do-300mbps-hang-chinh-hang-p416613.html?spid=119779&src=category-page-1846&2hi=0', 'Image_url': 'https://salt.tikicdn.com/cache/280x280/ts/product/cd/2f/0a/4c53cdba0b1ca8cbca34863e6d077b9f.jpg', 'Final_price': 273000, 'Regular_price': 359000, 'Discount': 24, 'Installment': 'NO', 'Cross_border': 'NO', 'Sponsor': 'NO', 'Reviews': 417, 'Rating': 88, 'Rating_by_stars': 4.4}, {'Category': 'Thiết Bị Số - Phụ Kiện Số/Phụ kiện máy tính và Laptop/Phụ Kiện Phím Chuột Văn Phòng/Chuột Văn Phòng/Chuột Văn Phòng Có Dây', 'Name': 'Chuột Có Dây Dell MS116 (Đen) - Hàng Chính Hãng', 'Url': 'https://tiki.vn/chuot-co-day-dell-ms116-den-hang-chinh-hang-p637038.html?spid=11604947&src=category-page-1846&2hi=0', 'Image_url': 'https://salt.tikicdn.com/cache/280x280/media/catalog/product/2/3/23885_chuot_dell_ms116_01.u2409.d20170508.t173244.322970.jpg', 'Final_price': 89000, 'Regular_price': 166000, 'Discount': 46, 'Installment': 'NO', 'Cross_border': 'NO', 'Sponsor': 'NO', 'Reviews': 311, 'Rating': 88, 'Rating_by_stars': 4.4}, {'Category': 'Laptop - Máy Vi Tính - Linh kiện/Thiết Bị Văn Phòng - Thiết Bị Ngoại Vi/Máy In - Photocopy/Máy In Laser', 'Name': 'Máy In Đơn Năng HP LaserJet Pro M12W Wifi - Hàng Chính Hãng', 'Url': 'https://tiki.vn//t.ants.vn/a3/c/?bc=cd27113a25,pageview,1596271750,visitor,1,7496227197,638770403,1345241239,10384,1,10850038870,10850035147,1,0_1&t_rls=7496227197-638770407-0-1100&t_s=7496227197-10850038870-1345241239:1&t_kw=&t_z=&t_age=7496227197-10850038870-2:1.0&t_gd=7496227197-10850038870-1:1.0&t_tp=&t_itr=&t_imk=&t_rm=&c_tp=&c_itr=&c_imk=&c_rm=&ti_area=29:1:VN&ti_gd=2&ti_age=2&ti_pl=1&ti_nw=:::1000&ti_dv=1:1:5:10:169:487613&skw=&aid=visitor&cv=6d02c86a&nspace=tiki&action_name=×tamp=1596271750915&url=&urlref=&hostname=&gent=&format=33&template=0&res=&gd=2&loc=29-1-vn&device_model=desktop&redirect=https%3A%2F%2Ftiki.vn%2Fmay-in-don-nang-hp-laserjet-pro-m12w-wifi-hang-chinh-hang-p1659903.html%3Fspid%3D54622820&prd_imp=7496227197-10850038870-9022975897:1&pos=20', 'Image_url': 'https://salt.tikicdn.com/cache/280x280/ts/product/36/2a/62/fbb257a1b23688814257e19c349584b0.jpg', 'Final_price': 2490000, 'Regular_price': 2690000, 'Discount': 7, 'Installment': 'NO', 'Cross_border': 'NO', 'Sponsor': 'YES', 'Reviews': 19, 'Rating': 86, 'Rating_by_stars': 4.3}, {'Category': 'Laptop - Máy Vi Tính - Linh kiện/Thiết Bị Lưu Trữ/Ổ Cứng Gắn Trong/Ổ Cứng SSD', 'Name': 'Ổ Cứng SSD Kingston A400 (240GB) - Hàng Chính Hãng', 'Url': 'https://tiki.vn/o-cung-ssd-kingston-a400-240gb-hang-chinh-hang-p618526.html?spid=618780&src=category-page-1846&2hi=0', 'Image_url': 'https://salt.tikicdn.com/cache/280x280/ts/product/06/d0/00/9df3937c390fcc0b66161f4dbe783757.jpg', 'Final_price': 719000, 'Regular_price': 1200000, 'Discount': 40, 'Installment': 'NO', 'Cross_border': 'NO', 'Sponsor': 'NO', 'Reviews': 427, 'Rating': 88, 'Rating_by_stars': 4.4}, {'Category': 'Laptop - Máy Vi Tính - Linh kiện/Thiết Bị Mạng/Bộ Kích Sóng Wifi', 'Name': 'Bộ Kích Sóng Wifi Repeater 300Mbps TP-Link TL-WA850RE - Hàng Chính Hãng', 'Url': 'https://tiki.vn/bo-kich-song-wifi-repeater-300mbps-tp-link-tl-wa850re-hang-chinh-hang-p455445.html?spid=27943616&src=category-page-1846&2hi=0', 'Image_url': 'https://salt.tikicdn.com/cache/280x280/media/catalog/product/t/l/tl-wa850re-eu-v1-01.jpg', 'Final_price': 229000, 'Regular_price': 429000, 'Discount': 47, 'Installment': 'NO', 'Cross_border': 'NO', 'Sponsor': 'NO', 'Reviews': 564, 'Rating': 86, 'Rating_by_stars': 4.3}, {'Category': 'Laptop - Máy Vi Tính - Linh kiện/Thiết Bị Lưu Trữ/USB', 'Name': 'USB 3.0 SanDisk Ultra Flair CZ73 - 32GB - Hàng Chính Hãng', 'Url': 'https://tiki.vn/usb-3-0-sandisk-ultra-flair-cz73-32gb-hang-chinh-hang-p502113.html?spid=707047&src=category-page-1846&2hi=0', 'Image_url': 'https://salt.tikicdn.com/cache/280x280/media/catalog/product/s/d/sdcz73 032g g46-2.u2470.d20160916.t140942.716016.jpg', 'Final_price': 136000, 'Regular_price': 437000, 'Discount': 69, 'Installment': 'NO', 'Cross_border': 'NO', 'Sponsor': 'NO', 'Reviews': 131, 'Rating': 92, 'Rating_by_stars': 4.6}, {'Category': 'Laptop - Máy Vi Tính - Linh kiện/Thiết Bị Mạng/Thiết Bị Phát Sóng Wifi/USB Wifi', 'Name': 'TP - Link TL- WN725N - USB Wifi Nano Chuẩn N Tốc Độ 150Mbps - Hàng Chính Hãng', 'Url': 'https://tiki.vn/tp-link-tl-wn725n-usb-wifi-nano-chuan-n-toc-do-150mbps-hang-chinh-hang-p416978.html?spid=7632190&src=category-page-1846&2hi=0', 'Image_url': 'https://salt.tikicdn.com/cache/280x280/ts/product/84/05/f9/5c70ad3e68bd82950099411542de4b49.jpg', 'Final_price': 125000, 'Regular_price': 155000, 'Discount': 19, 'Installment': 'NO', 'Cross_border': 'NO', 'Sponsor': 'NO', 'Reviews': 373, 'Rating': 86, 'Rating_by_stars': 4.3}, {'Category': 'Thiết Bị Số - Phụ Kiện Số/Phụ kiện máy tính và Laptop/Phụ Kiện Phím Chuột Văn Phòng/Chuột Văn Phòng/Chuột Văn Phòng Không Dây', 'Name': 'Chuột Không Dây Logitech M238 Marvel Collection - Hàng Chính Hãng', 'Url': 'https://tiki.vn/chuot-khong-day-logitech-m238-marvel-collection-hang-chinh-hang-p9830444.html?spid=44894578&src=category-page-1846&2hi=0', 'Image_url': 'https://salt.tikicdn.com/cache/280x280/ts/product/66/6c/e2/47c73849e7c8e1a4e2bc82570a3c1bd6.jpg', 'Final_price': 278000, 'Regular_price': 499000, 'Discount': 44, 'Installment': 'NO', 'Cross_border': 'NO', 'Sponsor': 'NO', 'Reviews': 227, 'Rating': 90, 'Rating_by_stars': 4.5}, {'Category': 'Laptop - Máy Vi Tính - Linh kiện/Thiết Bị Văn Phòng - Thiết Bị Ngoại Vi/Màn Hình Máy Tính/Màn Hình Đồ Họa', 'Name': 'Màn Hình Dell U2419H 24inch FullHD 8ms 60Hz IPS - Hàng Chính Hãng', 'Url': 'https://tiki.vn/man-hinh-dell-u2419h-24inch-fullhd-8ms-60hz-ips-hang-chinh-hang-p7986170.html?spid=7986171&src=category-page-1846&2hi=0', 'Image_url': 'https://salt.tikicdn.com/cache/280x280/ts/product/cf/3b/cc/c220e39d6100924a66679bfb346b7544.jpg', 'Final_price': 4950000, 'Regular_price': 5690000, 'Discount': 13, 'Installment': 'NO', 'Cross_border': 'NO', 'Sponsor': 'NO', 'Reviews': 178, 'Rating': 84, 'Rating_by_stars': 4.2}, {'Category': 'Laptop - Máy Vi Tính - Linh kiện/Thiết Bị Mạng/Thiết Bị Phát Sóng Wifi/Router Wifi', 'Name': 'Router Wifi Băng Tần Kép AC1200 TP-Link Archer C50 - Hàng Chính Hãng', 'Url': 'https://tiki.vn/router-wifi-bang-tan-kep-ac1200-tp-link-archer-c50-hang-chinh-hang-p708026.html?spid=710679&src=category-page-1846&2hi=0', 'Image_url': 'https://salt.tikicdn.com/cache/280x280/media/catalog/product/a/r/archer-c50-v3_s_01.u4064.d20170704.t180940.358348.jpg', 'Final_price': 545000, 'Regular_price': 799000, 'Discount': 32, 'Installment': 'NO', 'Cross_border': 'NO', 'Sponsor': 'NO', 'Reviews': 300, 'Rating': 86, 'Rating_by_stars': 4.3}, {'Category': 'Laptop - Máy Vi Tính - Linh kiện/Thiết Bị Mạng/Thiết Bị Phát Sóng Wifi/Router Wifi', 'Name': 'TotoLink N200RE-V3 - Bộ Phát Wifi Chuẩn N Tốc Độ 300Mbps - Hàng Chính Hãng', 'Url': 'https://tiki.vn/totolink-n200re-v3-bo-phat-wifi-chuan-n-toc-do-300mbps-hang-chinh-hang-p566867.html?spid=11487852&src=category-page-1846&2hi=0', 'Image_url': 'https://salt.tikicdn.com/cache/280x280/media/catalog/product/n/2/n200re-v3-1.u425.d20170309.t163238.300226.jpg', 'Final_price': 177000, 'Regular_price': 247000, 'Discount': 28, 'Installment': 'NO', 'Cross_border': 'NO', 'Sponsor': 'NO', 'Reviews': 357, 'Rating': 88, 'Rating_by_stars': 4.4}, {'Category': 'Laptop - Máy Vi Tính - Linh kiện/Thiết Bị Lưu Trữ/Case Ổ Cứng- Hộp Đựng HDD Box - Dock Ổ Cứng', 'Name': 'Khay Ổ Cứng Caddy Bay 9.5mm Siêu Mỏng (Gắn Ổ Cứng Thay Ổ Quang Laptop)', 'Url': 'https://tiki.vn/khay-o-cung-caddy-bay-9-5mm-sieu-mong-gan-o-cung-thay-o-quang-laptop-p7857797.html?spid=10567751&src=category-page-1846&2hi=0', 'Image_url': 'https://salt.tikicdn.com/cache/280x280/ts/product/a4/45/a0/01b5c999f1826627635fdc3354bfab9c.jpg', 'Final_price': 40700, 'Regular_price': 180000, 'Discount': 77, 'Installment': 'NO', 'Cross_border': 'NO', 'Sponsor': 'NO', 'Reviews': 207, 'Rating': 86, 'Rating_by_stars': 4.3}, {'Category': 'Laptop - Máy Vi Tính - Linh kiện/Thiết Bị Lưu Trữ/Ổ Cứng Di Động/Ổ Cứng HDD Di Động', 'Name': 'Ổ Cứng Di Động WD Elements 1TB 2.5 USB 3.0 - WDBUZG0010BBK - Hàng Chính Hãng', 'Url': 'https://tiki.vn/o-cung-di-dong-wd-elements-1tb-2-5-usb-3-0-wdbuzg0010bbk-hang-chinh-hang-p356387.html?spid=50275&src=category-page-1846&2hi=0', 'Image_url': 'https://salt.tikicdn.com/cache/280x280/media/catalog/product/w/d/wd elements 1tb - 2.5 usb 3.0_1.u579.d20160808.t172730.328870.jpg', 'Final_price': 1390000, 'Regular_price': 1590000, 'Discount': 13, 'Installment': 'NO', 'Cross_border': 'NO', 'Sponsor': 'NO', 'Reviews': 333, 'Rating': 92, 'Rating_by_stars': 4.6}, {'Category': 'Laptop - Máy Vi Tính - Linh kiện/Thiết Bị Lưu Trữ/USB', 'Name': 'USB Kingston DT100G3 16GB USB 3.0 - Hàng Chính Hãng', 'Url': 'https://tiki.vn/usb-kingston-dt100g3-16gb-usb-3-0-hang-chinh-hang-p405240.html?spid=13962932&src=category-page-1846&2hi=0', 'Image_url': 'https://salt.tikicdn.com/cache/280x280/media/catalog/product/1/6/161_1.jpg', 'Final_price': 115000, 'Regular_price': 230000, 'Discount': 50, 'Installment': 'NO', 'Cross_border': 'NO', 'Sponsor': 'NO', 'Reviews': 1277, 'Rating': 88, 'Rating_by_stars': 4.4}, {'Category': 'Thiết Bị Số - Phụ Kiện Số/Phụ kiện máy tính và Laptop/Phụ Kiện Phím Chuột Văn Phòng/Chuột Văn Phòng/Chuột Văn Phòng Không Dây', 'Name': 'Chuột Không Dây Logitech M185 - Hàng Chính Hãng', 'Url': 'https://tiki.vn/chuot-khong-day-logitech-m185-hang-chinh-hang-p54665.html?spid=54674&src=category-page-1846&2hi=0', 'Image_url': 'https://salt.tikicdn.com/cache/280x280/media/catalog/product/l/o/logitech-m185-red-.u579.d20161227.t161324.297081.jpg', 'Final_price': 185000, 'Regular_price': 289000, 'Discount': 36, 'Installment': 'NO', 'Cross_border': 'NO', 'Sponsor': 'NO', 'Reviews': 174, 'Rating': 88, 'Rating_by_stars': 4.4}, {'Category': 'Laptop - Máy Vi Tính - Linh kiện/Thiết Bị Mạng/Thiết Bị Phát Sóng Wifi/USB Wifi', 'Name': 'TP-Link  TL-WN722N - USB Wifi (high gain) tốc độ 150Mbps - Hàng Chính Hãng', 'Url': 'https://tiki.vn/tp-link-tl-wn722n-usb-wifi-high-gain-toc-do-150mbps-hang-chinh-hang-p416990.html?spid=120199&src=category-page-1846&2hi=0', 'Image_url': 'https://salt.tikicdn.com/cache/280x280/ts/product/d8/7e/88/8b082f09b4786149879ac69417ad2087.jpg', 'Final_price': 143000, 'Regular_price': 230000, 'Discount': 38, 'Installment': 'NO', 'Cross_border': 'NO', 'Sponsor': 'NO', 'Reviews': 179, 'Rating': 92, 'Rating_by_stars': 4.6}, {'Category': 'Laptop - Máy Vi Tính - Linh kiện/Thiết Bị Lưu Trữ/Ổ Cứng Gắn Trong/Ổ Cứng SSD', 'Name': 'Ổ Cứng SSD Kingston A400 (120GB) - Hàng Chính Hãng', 'Url': 'https://tiki.vn/o-cung-ssd-kingston-a400-120gb-hang-chinh-hang-p618461.html?spid=618777&src=category-page-1846&2hi=0', 'Image_url': 'https://salt.tikicdn.com/cache/280x280/media/catalog/product/1/_/1.u2409.d20170421.t141838.456229.jpg', 'Final_price': 529000, 'Regular_price': 1400000, 'Discount': 62, 'Installment': 'NO', 'Cross_border': 'NO', 'Sponsor': 'NO', 'Reviews': 347, 'Rating': 88, 'Rating_by_stars': 4.4}, {'Category': 'Thiết Bị Số - Phụ Kiện Số/Phụ kiện máy tính và Laptop/Phụ Kiện Phím Chuột Văn Phòng/Chuột Văn Phòng/Chuột Văn Phòng Không Dây', 'Name': 'Chuột Không Dây Logitech M220 - Hàng Chính Hãng', 'Url': 'https://tiki.vn/chuot-khong-day-logitech-m220-hang-chinh-hang-p4312979.html?spid=4312981&src=category-page-1846&2hi=0', 'Image_url': 'https://salt.tikicdn.com/cache/280x280/ts/product/6e/ae/96/61608ef0b7a990569ac6eb40b55164d5.jpg', 'Final_price': 236000, 'Regular_price': 299000, 'Discount': 21, 'Installment': 'NO', 'Cross_border': 'NO', 'Sponsor': 'NO', 'Reviews': 89, 'Rating': 94, 'Rating_by_stars': 4.7}, {'Category': 'Laptop - Máy Vi Tính - Linh kiện/Laptop/Macbook', 'Name': 'Apple Macbook Pro 2020 - 13 Inchs (i5-8th/ 8GB/ 256GB) - Hàng Nhập Khẩu Chính Hãng', 'Url': 'https://tiki.vn/apple-macbook-pro-2020-13-inchs-i5-8th-8gb-256gb-hang-nhap-khau-chinh-hang-p55244349.html?spid=55244351&src=category-page-1846&2hi=0', 'Image_url': 'https://salt.tikicdn.com/cache/280x280/ts/product/e1/68/65/7d2e94f82822f1801f627f52bb640fa4.jpg', 'Final_price': 32299000, 'Regular_price': 36990000, 'Discount': 13, 'Installment': 'YES', 'Cross_border': 'NO', 'Sponsor': 'NO', 'Reviews': 7, 'Rating': 84, 'Rating_by_stars': 4.2}, {'Category': 'Laptop - Máy Vi Tính - Linh kiện/Thiết Bị Mạng/Thiết Bị Phát Sóng Wifi/Router Wifi', 'Name': 'Bộ Phát Sóng Wifi Router Chuẩn N 300Mbps Tenda N301 - Hàng Chính Hãng', 'Url': 'https://tiki.vn/bo-phat-song-wifi-router-chuan-n-300mbps-tenda-n301-hang-chinh-hang-p459077.html?spid=7195791&src=category-page-1846&2hi=0', 'Image_url': 'https://salt.tikicdn.com/cache/280x280/media/catalog/product/4/1/41hbgvbgd_l._sl1000_.jpg', 'Final_price': 205000, 'Regular_price': 290000, 'Discount': 29, 'Installment': 'NO', 'Cross_border': 'NO', 'Sponsor': 'NO', 'Reviews': 269, 'Rating': 90, 'Rating_by_stars': 4.5}, {'Category': 'Thiết Bị Số - Phụ Kiện Số/Phụ kiện máy tính và Laptop/Phụ Kiện Phím Chuột Văn Phòng/Chuột Văn Phòng/Chuột Văn Phòng Không Dây', 'Name': 'Chuột Không Dây Logitech M337 - Hàng chính hãng', 'Url': 'https://tiki.vn/chuot-khong-day-logitech-m337-hang-chinh-hang-p233157.html?spid=233172&src=category-page-1846&2hi=0', 'Image_url': 'https://salt.tikicdn.com/cache/280x280/media/catalog/product/l/o/logitech m337black1.u2470.d20160620.t165439.jpg', 'Final_price': 410000, 'Regular_price': 699000, 'Discount': 41, 'Installment': 'NO', 'Cross_border': 'NO', 'Sponsor': 'NO', 'Reviews': 145, 'Rating': 86, 'Rating_by_stars': 4.3}, {'Category': 'Thiết Bị Số - Phụ Kiện Số/Phụ kiện máy tính và Laptop/Phụ Kiện Phím Chuột Văn Phòng/Chuột Văn Phòng/Chuột Văn Phòng Có Dây', 'Name': 'Chuột Có Dây Logitech M105 - Hàng chính hãng', 'Url': 'https://tiki.vn/chuot-co-day-logitech-m105-hang-chinh-hang-p55897.html?spid=55899&src=category-page-1846&2hi=0', 'Image_url': 'https://salt.tikicdn.com/cache/280x280/ts/product/69/4e/72/b0d9e8e20e65736b3887d203ae7e340c.png', 'Final_price': 114000, 'Regular_price': 169000, 'Discount': 33, 'Installment': 'NO', 'Cross_border': 'NO', 'Sponsor': 'NO', 'Reviews': 194, 'Rating': 90, 'Rating_by_stars': 4.5}, {'Category': 'Laptop - Máy Vi Tính - Linh kiện/Thiết Bị Văn Phòng - Thiết Bị Ngoại Vi/Màn Hình Máy Tính/Màn Hình Đồ Họa', 'Name': 'Màn Hình Dell P2419H 24inch FullHD 8ms 60Hz IPS - Hàng Chính Hãng', 'Url': 'https://tiki.vn/man-hinh-dell-p2419h-24inch-fullhd-8ms-60hz-ips-hang-chinh-hang-p4210927.html?spid=4210929&src=category-page-1846&2hi=0', 'Image_url': 'https://salt.tikicdn.com/cache/280x280/ts/product/e8/c2/51/3ab4708356d8dbd6c21330d171e11c44.jpg', 'Final_price': 3796000, 'Regular_price': 4290000, 'Discount': 12, 'Installment': 'YES', 'Cross_border': 'NO', 'Sponsor': 'NO', 'Reviews': 145, 'Rating': 92, 'Rating_by_stars': 4.6}, {'Category': 'Laptop - Máy Vi Tính - Linh kiện/Thiết Bị Văn Phòng - Thiết Bị Ngoại Vi/Máy In - Photocopy/Máy In Laser', 'Name': 'Máy In Laser Đen Trắng Đơn Năng Brother HL-L2321D Duplex - Hàng Chính Hãng', 'Url': 'https://tiki.vn/may-in-laser-den-trang-don-nang-brother-hl-l2321d-duplex-hang-chinh-hang-p459201.html?spid=2369897&src=category-page-1846&2hi=0', 'Image_url': 'https://salt.tikicdn.com/cache/280x280/ts/product/d7/e0/e6/b4042c269537274c60a916cde66f75b7.jpg', 'Final_price': 2400000, 'Regular_price': 2700000, 'Discount': 11, 'Installment': 'NO', 'Cross_border': 'NO', 'Sponsor': 'NO', 'Reviews': 337, 'Rating': 92, 'Rating_by_stars': 4.6}, {'Category': 'Laptop - Máy Vi Tính - Linh kiện/Thiết Bị Mạng/Bộ Kích Sóng Wifi', 'Name': 'Bộ Kích Sóng Wifi Repeater 300Mbps Tenda A9 - Hàng Chính Hãng', 'Url': 'https://tiki.vn/bo-kich-song-wifi-repeater-300mbps-tenda-a9-hang-chinh-hang-p554426.html?spid=7212147&src=category-page-1846&2hi=0', 'Image_url': 'https://salt.tikicdn.com/cache/280x280/media/catalog/product/a/9/a9_1.u579.d20161024.t110403.27177.jpg', 'Final_price': 195000, 'Regular_price': 470000, 'Discount': 59, 'Installment': 'NO', 'Cross_border': 'NO', 'Sponsor': 'NO', 'Reviews': 279, 'Rating': 82, 'Rating_by_stars': 4.1}, {'Category': 'Laptop - Máy Vi Tính - Linh kiện/Thiết Bị Lưu Trữ/USB', 'Name': 'USB SanDisk CZ600 16GB - USB 3.0 - Hàng Chính Hãng', 'Url': 'https://tiki.vn/usb-sandisk-cz600-16gb-usb-3-0-hang-chinh-hang-p3608387.html?spid=20478006&src=category-page-1846&2hi=0', 'Image_url': 'https://salt.tikicdn.com/cache/280x280/ts/product/1c/dd/a5/fbbc5a804518251180930f1b0e673d74.jpg', 'Final_price': 95000, 'Regular_price': 130000, 'Discount': 27, 'Installment': 'NO', 'Cross_border': 'NO', 'Sponsor': 'NO', 'Reviews': 120, 'Rating': 90, 'Rating_by_stars': 4.5}, {'Category': 'Laptop - Máy Vi Tính - Linh kiện/Thiết Bị Mạng/Thiết Bị Phát Sóng Wifi/Router Wifi', 'Name': 'Bộ Phát Wifi Chuẩn AC1200 Tenda AC5-Hàng Chính Hãng', 'Url': 'https://tiki.vn/bo-phat-wifi-chuan-ac1200-tenda-ac5-hang-chinh-hang-p42909059.html?spid=48538933&src=category-page-1846&2hi=0', 'Image_url': 'https://salt.tikicdn.com/cache/280x280/ts/product/42/04/cc/7a0fbde45fcbe0c7ec6c8f942e8a498a.png', 'Final_price': 349000, 'Regular_price': 570000, 'Discount': 39, 'Installment': 'NO', 'Cross_border': 'NO', 'Sponsor': 'NO', 'Reviews': 55, 'Rating': 86, 'Rating_by_stars': 4.3}, {'Category': 'Laptop - Máy Vi Tính - Linh kiện/Thiết Bị Lưu Trữ/Ổ Cứng Gắn Trong/Ổ Cứng SSD', 'Name': 'Ổ Cứng SSD WD Green 120GB 3D NAND - WDS120G2G0A - Hàng Chính Hãng', 'Url': 'https://tiki.vn/o-cung-ssd-wd-green-120gb-3d-nand-wds120g2g0a-hang-chinh-hang-p964223.html?spid=1115274&src=category-page-1846&2hi=0', 'Image_url': 'https://salt.tikicdn.com/cache/280x280/ts/product/d6/59/88/42f720221b94a127695a40e8ee3e5a36.jpg', 'Final_price': 559000, 'Regular_price': 750000, 'Discount': 25, 'Installment': 'NO', 'Cross_border': 'NO', 'Sponsor': 'NO', 'Reviews': 272, 'Rating': 90, 'Rating_by_stars': 4.5}, {'Category': 'Laptop - Máy Vi Tính - Linh kiện/Thiết Bị Văn Phòng - Thiết Bị Ngoại Vi/Máy In - Photocopy/Máy In Phun', 'Name': 'Máy In Phun Màu Canon Pixma G1010 - Hàng Chính Hãng', 'Url': 'https://tiki.vn/may-in-phun-mau-canon-pixma-g1010-hang-chinh-hang-p2901371.html?spid=2901373&src=category-page-1846&2hi=0', 'Image_url': 'https://salt.tikicdn.com/cache/280x280/ts/product/4e/a8/35/3558fca0eee871f7443ef3b66e11404e.jpg', 'Final_price': 1820000, 'Regular_price': 3500000, 'Discount': 48, 'Installment': 'NO', 'Cross_border': 'NO', 'Sponsor': 'NO', 'Reviews': 67, 'Rating': 86, 'Rating_by_stars': 4.3}, {'Category': 'Laptop - Máy Vi Tính - Linh kiện/Thiết Bị Lưu Trữ/Ổ Cứng Gắn Trong/Ổ Cứng SSD', 'Name': 'Ổ cứng SSD 128GB Lexar NS100 2.5-Inch SATA III_Hàng chính hãng', 'Url': 'https://tiki.vn/o-cung-ssd-128gb-lexar-ns100-2-5-inch-sata-iii_hang-chinh-hang-p27609946.html?spid=32216641&src=category-page-1846&2hi=0', 'Image_url': 'https://salt.tikicdn.com/cache/280x280/media/catalog/producttmp/c8/ea/03/f368ad660a921a7974fc081d1b438e63.jpg', 'Final_price': 549000, 'Regular_price': 799000, 'Discount': 31, 'Installment': 'NO', 'Cross_border': 'NO', 'Sponsor': 'NO', 'Reviews': 125, 'Rating': 92, 'Rating_by_stars': 4.6}, {'Category': 'Laptop - Máy Vi Tính - Linh kiện/Thiết Bị Văn Phòng - Thiết Bị Ngoại Vi/Phần Mềm Máy Tính', 'Name': 'Kaspersky Internet Security Cho 1 Máy Tính - KIS1U - Hàng chính hãng', 'Url': 'https://tiki.vn/kaspersky-internet-security-cho-1-may-tinh-kis1u-hang-chinh-hang-p561879.html?spid=295839&src=category-page-1846&2hi=0', 'Image_url': 'https://salt.tikicdn.com/cache/280x280/ts/product/5c/04/de/5daf4e2ae7ee24bab647460cdc311807.jpg', 'Final_price': 257000, 'Regular_price': 300000, 'Discount': 14, 'Installment': 'NO', 'Cross_border': 'NO', 'Sponsor': 'NO', 'Reviews': 190, 'Rating': 96, 'Rating_by_stars': 4.8}, {'Category': 'Thiết Bị Số - Phụ Kiện Số/Phụ kiện máy tính và Laptop/Phụ Kiện Phím Chuột Văn Phòng/Chuột Văn Phòng/Chuột Văn Phòng Không Dây', 'Name': 'Chuột Không Dây Genius NX7005 - Hàng chính hãng', 'Url': 'https://tiki.vn/chuot-khong-day-genius-nx7005-hang-chinh-hang-p310993.html?spid=310995&src=category-page-1846&2hi=0', 'Image_url': 'https://salt.tikicdn.com/cache/280x280/media/catalog/product/n/x/nx7005den--1-.u2470.d20170214.t135317.735769.jpg', 'Final_price': 129000, 'Regular_price': 180000, 'Discount': 28, 'Installment': 'NO', 'Cross_border': 'NO', 'Sponsor': 'NO', 'Reviews': 207, 'Rating': 78, 'Rating_by_stars': 3.9}, {'Category': 'Laptop - Máy Vi Tính - Linh kiện/Thiết Bị Văn Phòng - Thiết Bị Ngoại Vi/Máy In - Photocopy/Máy In Laser', 'Name': 'Máy In Laser Trắng Đen Đơn Năng HP LaserJet Pro M15a (In Trắng-W2G50A) - Hàng Chính Hãng', 'Url': 'https://tiki.vn/may-in-laser-trang-den-don-nang-hp-laserjet-pro-m15a-in-trang-w2g50a-hang-chinh-hang-p7796984.html?spid=15294747&src=category-page-1846&2hi=0', 'Image_url': 'https://salt.tikicdn.com/cache/280x280/ts/product/71/6e/34/7b77cdeda4d2b6bad115168c27f55fe7.jpg', 'Final_price': 1650000, 'Regular_price': 2299000, 'Discount': 28, 'Installment': 'NO', 'Cross_border': 'NO', 'Sponsor': 'NO', 'Reviews': 112, 'Rating': 90, 'Rating_by_stars': 4.5}, {'Category': 'Laptop - Máy Vi Tính - Linh kiện/Linh Kiện Máy Tính - Phụ Kiện Máy Tính/RAM Máy Tính/RAM Desktop', 'Name': 'Ram PC Kingston HyperX Fury Black 8GB (1x8GB) Bus 2666 DDR4 CL16 DIMM XMP Non-ECC HX426C16FB3/8 - Hàng Chính Hãng', 'Url': 'https://tiki.vn/ram-pc-kingston-hyperx-fury-black-8gb-1x8gb-bus-2666-ddr4-cl16-dimm-xmp-non-ecc-hx426c16fb3-8-hang-chinh-hang-p41167737.html?spid=41167738&src=category-page-1846&2hi=0', 'Image_url': 'https://salt.tikicdn.com/cache/280x280/ts/product/a6/93/48/2da3672d7da3cd61e8bc8692a066ba6c.jpg', 'Final_price': 749000, 'Regular_price': 1490000, 'Discount': 50, 'Installment': 'NO', 'Cross_border': 'NO', 'Sponsor': 'NO', 'Reviews': 51, 'Rating': 90, 'Rating_by_stars': 4.5}, {'Category': 'Thiết Bị Số - Phụ Kiện Số/Phụ kiện máy tính và Laptop/Phụ Kiện Phím Chuột Văn Phòng/Chuột Văn Phòng/Chuột Văn Phòng Không Dây', 'Name': 'Chuột Không Dây Logitech MX Anywhere 2S Receiver USB  - Hàng Chính Hãng', 'Url': 'https://tiki.vn/chuot-khong-day-logitech-mx-anywhere-2s-receiver-usb-hang-chinh-hang-p702134.html?spid=702135&src=category-page-1846&2hi=0', 'Image_url': 'https://salt.tikicdn.com/cache/280x280/ts/product/1b/39/90/06446f9c8546e8d0365cefd403866976.jpg', 'Final_price': 1279000, 'Regular_price': 1999000, 'Discount': 36, 'Installment': 'NO', 'Cross_border': 'NO', 'Sponsor': 'NO', 'Reviews': 218, 'Rating': 84, 'Rating_by_stars': 4.2}]\n"
     ]
    }
   ],
   "source": [
    "import requests\n",
    "from bs4 import BeautifulSoup\n",
    "import re\n",
    "\n",
    "def get_url(url):\n",
    "    \"\"\"Get parsed HTML from url\n",
    "      Input: url to the webpage\n",
    "      Output: Parsed HTML text of the webpage\n",
    "    \"\"\"\n",
    "    # Send Get request\n",
    "    r = requests.get(url)\n",
    "\n",
    "    # Parse HTML text\n",
    "    soup = BeautifulSoup(r.text, 'html.parser')\n",
    "    \n",
    "    return soup\n",
    "\n",
    "#soup = get_url()\n",
    "\n",
    "# select the tag that contains the product\n",
    "\n",
    "\n",
    "def scrape_tiki(url='https://tiki.vn/laptop-may-vi-tinh-linh-kien/c1846?src=c.1846.hamburger_menu_fly_out_banner&_lc=Vk4wMzkwMTIwMDI%3D'):\n",
    "    \"\"\"Scrape info of products in Laptop-PC\"\"\"\n",
    "    \n",
    "    # Get parsed HTML by calling get_url function\n",
    "    soup = get_url(url)\n",
    "           \n",
    "    # Find all products\n",
    "    products = soup.find_all('div', {'class':'product-item'})\n",
    "    \n",
    "    # Store product info in a list\n",
    "    data = []\n",
    "    \n",
    "    count = 0\n",
    "    \n",
    "    # Extract info of each product\n",
    "    for product in products:    \n",
    "        d = {'Category':'',\n",
    "         'Name':'',\n",
    "         'Url':'',\n",
    "         'Image_url':'',\n",
    "         'Final_price':'',\n",
    "         'Regular_price':'',\n",
    "         'Discount':'',\n",
    "         'Installment':'',\n",
    "         'Cross_border':'',\n",
    "         'Sponsor':'',\n",
    "         'Reviews':'',\n",
    "         'Rating':'',\n",
    "         'Rating_by_stars':''}\n",
    "    \n",
    "        try:\n",
    "            d['Category'] = product['data-category']\n",
    "            #print(d['Category'])\n",
    "            d['Name'] = product['data-title']\n",
    "            #print(d['Name'])\n",
    "            d['Url'] = 'https://tiki.vn' + product.a['href']\n",
    "            #print(d['Url'])\n",
    "            d['Image_url'] = product.find('img', {'class':'product-image img-responsive'})['src']\n",
    "            #print(d['Image'])\n",
    "            d['Final_price'] = int(list(product.find('p', {'class':'price-sale'}).text.split())[0].replace('đ', '').replace('.', '', -1))\n",
    "            #print(d['Final_Price'])\n",
    "            d['Regular_price'] = int(list(product.find('p', {'class':'price-sale'}).text.split())[2].replace('đ', '').replace('.', '', -1))\n",
    "            #print(d['Regular_Price'])\n",
    "            d['Discount'] = int(list(product.find('p', {'class':'price-sale'}).text.split())[1].replace('-', '').replace('%',''))\n",
    "\n",
    "            if product.find('p', {'class':'installment'}):\n",
    "                installment = 'YES'\n",
    "            else:\n",
    "                installment = 'NO'\n",
    "            d['Installment'] = installment\n",
    "            #print(d['Installment'])\n",
    "        \n",
    "            if 'Quốc Tế' in d['Category']:\n",
    "                is_cross_border = 'YES'\n",
    "            else:\n",
    "                is_cross_border = 'NO'\n",
    "            d['Cross_border'] = is_cross_border\n",
    "            #print(d['Cross_border'])\n",
    "        \n",
    "            if 'Tài trợ' in product.find('div', {'class':'ship-label-wrapper'}).text:\n",
    "                sponsor = 'YES'\n",
    "            else:\n",
    "                sponsor = 'NO'\n",
    "            #print(sponsor)\n",
    "            \n",
    "            d['Sponsor'] = sponsor\n",
    "        \n",
    "            try:\n",
    "                d['Rating'] = int(product.find('span', {'class':'rating-content'}).span['style'][-3:-1])\n",
    "                d['Rating_by_stars'] = d['Rating'] * 5 / 100\n",
    "            except:\n",
    "                d['Rating'] = 0\n",
    "        \n",
    "            if d['Rating'] == 0:\n",
    "                d['Reviews'] = 0\n",
    "            else:\n",
    "                d['Reviews'] = int(product.find('p', {'class':'review'}).text.replace('(', '').split()[0])\n",
    "            \n",
    "            data.append(d)\n",
    "    \n",
    "        except:\n",
    "            print('Cannot retrieve information')\n",
    "        \n",
    "    return data\n",
    "\n",
    "\n",
    "print(scrape_tiki())"
   ]
  },
  {
   "cell_type": "code",
   "execution_count": null,
   "metadata": {},
   "outputs": [],
   "source": []
  },
  {
   "cell_type": "code",
   "execution_count": null,
   "metadata": {},
   "outputs": [],
   "source": []
  },
  {
   "cell_type": "code",
   "execution_count": null,
   "metadata": {},
   "outputs": [],
   "source": []
  },
  {
   "cell_type": "code",
   "execution_count": null,
   "metadata": {},
   "outputs": [],
   "source": []
  },
  {
   "cell_type": "code",
   "execution_count": null,
   "metadata": {},
   "outputs": [],
   "source": []
  },
  {
   "cell_type": "code",
   "execution_count": null,
   "metadata": {},
   "outputs": [],
   "source": []
  },
  {
   "cell_type": "code",
   "execution_count": null,
   "metadata": {},
   "outputs": [],
   "source": []
  },
  {
   "cell_type": "code",
   "execution_count": null,
   "metadata": {},
   "outputs": [],
   "source": []
  },
  {
   "cell_type": "code",
   "execution_count": null,
   "metadata": {},
   "outputs": [],
   "source": []
  },
  {
   "cell_type": "code",
   "execution_count": null,
   "metadata": {},
   "outputs": [],
   "source": []
  },
  {
   "cell_type": "code",
   "execution_count": null,
   "metadata": {},
   "outputs": [],
   "source": []
  }
 ],
 "metadata": {
  "kernelspec": {
   "display_name": "Python 3",
   "language": "python",
   "name": "python3"
  },
  "language_info": {
   "codemirror_mode": {
    "name": "ipython",
    "version": 3
   },
   "file_extension": ".py",
   "mimetype": "text/x-python",
   "name": "python",
   "nbconvert_exporter": "python",
   "pygments_lexer": "ipython3",
   "version": "3.7.8"
  }
 },
 "nbformat": 4,
 "nbformat_minor": 4
}
