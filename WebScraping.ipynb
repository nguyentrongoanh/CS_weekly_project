<<<<<<< Updated upstream
=======
    "def get_url(url):\n",
>>>>>>> Stashed changes
