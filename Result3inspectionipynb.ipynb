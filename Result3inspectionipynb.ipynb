{
  "nbformat": 4,
  "nbformat_minor": 0,
  "metadata": {
    "colab": {
      "name": "Result3inspectionipynb",
      "provenance": [],
      "authorship_tag": "ABX9TyOkr76yI/M+obZqDoPd+LM/",
      "include_colab_link": true
    },
    "kernelspec": {
      "name": "python3",
      "display_name": "Python 3"
    }
  },
  "cells": [
    {
      "cell_type": "markdown",
      "metadata": {
        "id": "view-in-github",
        "colab_type": "text"
      },
      "source": [
        "<a href=\"https://colab.research.google.com/github/nguyentrongoanh/CS_weekly_project/blob/Domstests/Result3inspectionipynb.ipynb\" target=\"_parent\"><img src=\"https://colab.research.google.com/assets/colab-badge.svg\" alt=\"Open In Colab\"/></a>"
      ]
    },
    {
      "cell_type": "code",
      "metadata": {
        "id": "RYcASv_Gj4Eh",
        "colab_type": "code",
        "colab": {
          "base_uri": "https://localhost:8080/",
          "height": 120
        },
        "outputId": "55d49c86-40e4-4442-b46b-3be086db8385"
      },
      "source": [
        "from google.colab import drive\n",
        "drive.mount('/content/gdrive')"
      ],
      "execution_count": null,
      "outputs": [
        {
          "output_type": "stream",
          "text": [
            "Go to this URL in a browser: https://accounts.google.com/o/oauth2/auth?client_id=947318989803-6bn6qk8qdgf4n4g3pfee6491hc0brc4i.apps.googleusercontent.com&redirect_uri=urn%3aietf%3awg%3aoauth%3a2.0%3aoob&response_type=code&scope=email%20https%3a%2f%2fwww.googleapis.com%2fauth%2fdocs.test%20https%3a%2f%2fwww.googleapis.com%2fauth%2fdrive%20https%3a%2f%2fwww.googleapis.com%2fauth%2fdrive.photos.readonly%20https%3a%2f%2fwww.googleapis.com%2fauth%2fpeopleapi.readonly\n",
            "\n",
            "Enter your authorization code:\n",
            "··········\n",
            "Mounted at /content/gdrive\n"
          ],
          "name": "stdout"
        }
      ]
    },
    {
      "cell_type": "code",
      "metadata": {
        "id": "iMgIBoAkkUGK",
        "colab_type": "code",
        "colab": {
          "base_uri": "https://localhost:8080/",
          "height": 50
        },
        "outputId": "94d94329-0cde-4ca0-f4da-db56e7ac3fad"
      },
      "source": [
        "import numpy as np\n",
        "import pandas as pd\n",
        "import seaborn as sns\n",
        "import matplotlib.pyplot as plt\n",
        "%matplotlib inline\n",
        "import warnings\n",
        "warnings.filterwarnings('ignore')"
      ],
      "execution_count": null,
      "outputs": [
        {
          "output_type": "stream",
          "text": [
            "/usr/local/lib/python3.6/dist-packages/statsmodels/tools/_testing.py:19: FutureWarning: pandas.util.testing is deprecated. Use the functions in the public API at pandas.testing instead.\n",
            "  import pandas.util.testing as tm\n"
          ],
          "name": "stderr"
        }
      ]
    },
    {
      "cell_type": "code",
      "metadata": {
        "id": "DR3kvdxukVCG",
        "colab_type": "code",
        "colab": {}
      },
      "source": [
        "results = pd.read_csv('/content/gdrive/My Drive/GitHub/CS_weekly_project/result3.csv')"
      ],
      "execution_count": null,
      "outputs": []
    },
    {
      "cell_type": "code",
      "metadata": {
        "id": "mklWqZm8mK47",
        "colab_type": "code",
        "colab": {
          "base_uri": "https://localhost:8080/",
          "height": 431
        },
        "outputId": "b194673e-da48-4eae-8077-f6c2858b12ad"
      },
      "source": [
        "results.sort_values(by=['Discount_percent'], ascending=False)[:5]"
      ],
      "execution_count": null,
      "outputs": [
        {
          "output_type": "execute_result",
          "data": {
            "text/html": [
              "<div>\n",
              "<style scoped>\n",
              "    .dataframe tbody tr th:only-of-type {\n",
              "        vertical-align: middle;\n",
              "    }\n",
              "\n",
              "    .dataframe tbody tr th {\n",
              "        vertical-align: top;\n",
              "    }\n",
              "\n",
              "    .dataframe thead th {\n",
              "        text-align: right;\n",
              "    }\n",
              "</style>\n",
              "<table border=\"1\" class=\"dataframe\">\n",
              "  <thead>\n",
              "    <tr style=\"text-align: right;\">\n",
              "      <th></th>\n",
              "      <th>Category</th>\n",
              "      <th>Name</th>\n",
              "      <th>Final_price</th>\n",
              "      <th>Regular_price</th>\n",
              "      <th>Discount_percent</th>\n",
              "      <th>Installment</th>\n",
              "      <th>Cross_border</th>\n",
              "      <th>Sponsor</th>\n",
              "      <th>Reviews</th>\n",
              "      <th>Rating</th>\n",
              "      <th>Rating_by_stars</th>\n",
              "      <th>Url</th>\n",
              "      <th>Image_url</th>\n",
              "    </tr>\n",
              "  </thead>\n",
              "  <tbody>\n",
              "    <tr>\n",
              "      <th>103</th>\n",
              "      <td>Laptop - Máy Vi Tính - Linh kiện/Laptop/Laptop...</td>\n",
              "      <td>Laptop DELL XPS 13 9370 i7-8550u 8GB SSD 256GB...</td>\n",
              "      <td>25760000</td>\n",
              "      <td>44000000</td>\n",
              "      <td>41</td>\n",
              "      <td>NO</td>\n",
              "      <td>NO</td>\n",
              "      <td>NO</td>\n",
              "      <td>2</td>\n",
              "      <td>100</td>\n",
              "      <td>5.0</td>\n",
              "      <td>https://tiki.vn/laptop-dell-xps-13-9370-i7-855...</td>\n",
              "      <td>https://salt.tikicdn.com/cache/280x280/ts/prod...</td>\n",
              "    </tr>\n",
              "    <tr>\n",
              "      <th>107</th>\n",
              "      <td>Laptop - Máy Vi Tính - Linh kiện/Laptop/Laptop...</td>\n",
              "      <td>Microsoft Surface Pro 2018 - Core i5-8250U/8G/...</td>\n",
              "      <td>21900000</td>\n",
              "      <td>35990000</td>\n",
              "      <td>39</td>\n",
              "      <td>NO</td>\n",
              "      <td>NO</td>\n",
              "      <td>NO</td>\n",
              "      <td>6</td>\n",
              "      <td>76</td>\n",
              "      <td>3.8</td>\n",
              "      <td>https://tiki.vn/microsoft-surface-pro-2018-cor...</td>\n",
              "      <td>https://salt.tikicdn.com/cache/280x280/ts/prod...</td>\n",
              "    </tr>\n",
              "    <tr>\n",
              "      <th>164</th>\n",
              "      <td>Laptop - Máy Vi Tính - Linh kiện/Laptop/Macbook</td>\n",
              "      <td>Apple Macbook Pro Touch Bar 2019 - 13 inchs (i...</td>\n",
              "      <td>37999000</td>\n",
              "      <td>59990000</td>\n",
              "      <td>37</td>\n",
              "      <td>YES</td>\n",
              "      <td>NO</td>\n",
              "      <td>NO</td>\n",
              "      <td>1</td>\n",
              "      <td>100</td>\n",
              "      <td>5.0</td>\n",
              "      <td>https://tiki.vn/apple-macbook-pro-touch-bar-20...</td>\n",
              "      <td>https://salt.tikicdn.com/cache/280x280/ts/prod...</td>\n",
              "    </tr>\n",
              "    <tr>\n",
              "      <th>55</th>\n",
              "      <td>Laptop - Máy Vi Tính - Linh kiện/Laptop/Laptop...</td>\n",
              "      <td>Laptop Asus ASUSPRO B9440UA-GV0495T (Core i5-8...</td>\n",
              "      <td>17139000</td>\n",
              "      <td>26990000</td>\n",
              "      <td>36</td>\n",
              "      <td>YES</td>\n",
              "      <td>NO</td>\n",
              "      <td>NO</td>\n",
              "      <td>7</td>\n",
              "      <td>86</td>\n",
              "      <td>4.3</td>\n",
              "      <td>https://tiki.vn/laptop-asus-asuspro-b9440ua-gv...</td>\n",
              "      <td>https://salt.tikicdn.com/cache/280x280/ts/prod...</td>\n",
              "    </tr>\n",
              "    <tr>\n",
              "      <th>276</th>\n",
              "      <td>Laptop - Máy Vi Tính - Linh kiện/Laptop</td>\n",
              "      <td>Laptop HP EliteBook 1040 G4 2YB61PA Core i5-72...</td>\n",
              "      <td>21239000</td>\n",
              "      <td>32990000</td>\n",
              "      <td>36</td>\n",
              "      <td>YES</td>\n",
              "      <td>NO</td>\n",
              "      <td>NO</td>\n",
              "      <td>0</td>\n",
              "      <td>0</td>\n",
              "      <td>0.0</td>\n",
              "      <td>https://tiki.vn/laptop-hp-elitebook-1040-g4-2y...</td>\n",
              "      <td>https://salt.tikicdn.com/cache/280x280/ts/prod...</td>\n",
              "    </tr>\n",
              "  </tbody>\n",
              "</table>\n",
              "</div>"
            ],
            "text/plain": [
              "                                              Category  ...                                          Image_url\n",
              "103  Laptop - Máy Vi Tính - Linh kiện/Laptop/Laptop...  ...  https://salt.tikicdn.com/cache/280x280/ts/prod...\n",
              "107  Laptop - Máy Vi Tính - Linh kiện/Laptop/Laptop...  ...  https://salt.tikicdn.com/cache/280x280/ts/prod...\n",
              "164    Laptop - Máy Vi Tính - Linh kiện/Laptop/Macbook  ...  https://salt.tikicdn.com/cache/280x280/ts/prod...\n",
              "55   Laptop - Máy Vi Tính - Linh kiện/Laptop/Laptop...  ...  https://salt.tikicdn.com/cache/280x280/ts/prod...\n",
              "276            Laptop - Máy Vi Tính - Linh kiện/Laptop  ...  https://salt.tikicdn.com/cache/280x280/ts/prod...\n",
              "\n",
              "[5 rows x 13 columns]"
            ]
          },
          "metadata": {
            "tags": []
          },
          "execution_count": 37
        }
      ]
    },
    {
      "cell_type": "code",
      "metadata": {
        "id": "iRgyYJz1mmJ2",
        "colab_type": "code",
        "colab": {
          "base_uri": "https://localhost:8080/",
          "height": 764
        },
        "outputId": "f95e7a87-169f-4ce0-c310-976f84b60b22"
      },
      "source": [
        "results.sort_values(by=['Final_price'], ascending=False)[:10]"
      ],
      "execution_count": null,
      "outputs": [
        {
          "output_type": "execute_result",
          "data": {
            "text/html": [
              "<div>\n",
              "<style scoped>\n",
              "    .dataframe tbody tr th:only-of-type {\n",
              "        vertical-align: middle;\n",
              "    }\n",
              "\n",
              "    .dataframe tbody tr th {\n",
              "        vertical-align: top;\n",
              "    }\n",
              "\n",
              "    .dataframe thead th {\n",
              "        text-align: right;\n",
              "    }\n",
              "</style>\n",
              "<table border=\"1\" class=\"dataframe\">\n",
              "  <thead>\n",
              "    <tr style=\"text-align: right;\">\n",
              "      <th></th>\n",
              "      <th>Category</th>\n",
              "      <th>Name</th>\n",
              "      <th>Final_price</th>\n",
              "      <th>Regular_price</th>\n",
              "      <th>Discount_percent</th>\n",
              "      <th>Installment</th>\n",
              "      <th>Cross_border</th>\n",
              "      <th>Sponsor</th>\n",
              "      <th>Reviews</th>\n",
              "      <th>Rating</th>\n",
              "      <th>Rating_by_stars</th>\n",
              "      <th>Url</th>\n",
              "      <th>Image_url</th>\n",
              "    </tr>\n",
              "  </thead>\n",
              "  <tbody>\n",
              "    <tr>\n",
              "      <th>217</th>\n",
              "      <td>Laptop - Máy Vi Tính - Linh kiện/Laptop/Laptop...</td>\n",
              "      <td>Laptop Asus ROG Zephyrus S GX701GXR-HG142T (Co...</td>\n",
              "      <td>79409000</td>\n",
              "      <td>84990000</td>\n",
              "      <td>7</td>\n",
              "      <td>YES</td>\n",
              "      <td>NO</td>\n",
              "      <td>NO</td>\n",
              "      <td>0</td>\n",
              "      <td>0</td>\n",
              "      <td>0.0</td>\n",
              "      <td>https://tiki.vn/laptop-asus-rog-zephyrus-s-gx7...</td>\n",
              "      <td>https://salt.tikicdn.com/cache/280x280/ts/prod...</td>\n",
              "    </tr>\n",
              "    <tr>\n",
              "      <th>337</th>\n",
              "      <td>Laptop - Máy Vi Tính - Linh kiện/Laptop/Laptop...</td>\n",
              "      <td>Máy tính laptop Surface Book 2 15 Inch Core I7...</td>\n",
              "      <td>69900000</td>\n",
              "      <td>85690000</td>\n",
              "      <td>18</td>\n",
              "      <td>NO</td>\n",
              "      <td>NO</td>\n",
              "      <td>NO</td>\n",
              "      <td>0</td>\n",
              "      <td>0</td>\n",
              "      <td>0.0</td>\n",
              "      <td>https://tiki.vn/may-tinh-laptop-surface-book-2...</td>\n",
              "      <td>https://salt.tikicdn.com/cache/280x280/ts/prod...</td>\n",
              "    </tr>\n",
              "    <tr>\n",
              "      <th>173</th>\n",
              "      <td>Laptop - Máy Vi Tính - Linh kiện/Laptop/Laptop...</td>\n",
              "      <td>Laptop Asus ROG Zephyrus S GX701GXR-H6072T (Co...</td>\n",
              "      <td>65389000</td>\n",
              "      <td>79990000</td>\n",
              "      <td>18</td>\n",
              "      <td>YES</td>\n",
              "      <td>NO</td>\n",
              "      <td>NO</td>\n",
              "      <td>0</td>\n",
              "      <td>0</td>\n",
              "      <td>0.0</td>\n",
              "      <td>https://tiki.vn/laptop-asus-rog-zephyrus-s-gx7...</td>\n",
              "      <td>https://salt.tikicdn.com/cache/280x280/ts/prod...</td>\n",
              "    </tr>\n",
              "    <tr>\n",
              "      <th>463</th>\n",
              "      <td>Laptop - Máy Vi Tính - Linh kiện/Laptop/Laptop...</td>\n",
              "      <td>Surface Book 2 15 Inch Core I7 Ram 16Gb 512Gb ...</td>\n",
              "      <td>62500000</td>\n",
              "      <td>75889000</td>\n",
              "      <td>18</td>\n",
              "      <td>NO</td>\n",
              "      <td>NO</td>\n",
              "      <td>NO</td>\n",
              "      <td>0</td>\n",
              "      <td>0</td>\n",
              "      <td>0.0</td>\n",
              "      <td>https://tiki.vn/surface-book-2-15-inch-core-i7...</td>\n",
              "      <td>https://salt.tikicdn.com/cache/280x280/ts/prod...</td>\n",
              "    </tr>\n",
              "    <tr>\n",
              "      <th>84</th>\n",
              "      <td>Laptop - Máy Vi Tính - Linh kiện/Laptop/Laptop...</td>\n",
              "      <td>Laptop ASUS ZenBook Pro Duo UX581GV-H2029T (Co...</td>\n",
              "      <td>59699000</td>\n",
              "      <td>74990000</td>\n",
              "      <td>20</td>\n",
              "      <td>YES</td>\n",
              "      <td>NO</td>\n",
              "      <td>NO</td>\n",
              "      <td>2</td>\n",
              "      <td>100</td>\n",
              "      <td>5.0</td>\n",
              "      <td>https://tiki.vn/laptop-asus-zenbook-pro-duo-ux...</td>\n",
              "      <td>https://salt.tikicdn.com/cache/280x280/ts/prod...</td>\n",
              "    </tr>\n",
              "    <tr>\n",
              "      <th>370</th>\n",
              "      <td>Laptop - Máy Vi Tính - Linh kiện/Laptop/Laptop...</td>\n",
              "      <td>Laptop Asus ROG Strix SCAR III G731G_N-WH100T ...</td>\n",
              "      <td>57919000</td>\n",
              "      <td>61990000</td>\n",
              "      <td>7</td>\n",
              "      <td>YES</td>\n",
              "      <td>NO</td>\n",
              "      <td>NO</td>\n",
              "      <td>0</td>\n",
              "      <td>0</td>\n",
              "      <td>0.0</td>\n",
              "      <td>https://tiki.vn/laptop-asus-rog-strix-scar-iii...</td>\n",
              "      <td>https://salt.tikicdn.com/cache/280x280/ts/prod...</td>\n",
              "    </tr>\n",
              "    <tr>\n",
              "      <th>653</th>\n",
              "      <td>Laptop - Máy Vi Tính - Linh kiện/Laptop/Laptop...</td>\n",
              "      <td>Laptop Lenovo ThinkPad X1 Yoga Gen 4 20SA000VV...</td>\n",
              "      <td>53829000</td>\n",
              "      <td>55990000</td>\n",
              "      <td>4</td>\n",
              "      <td>YES</td>\n",
              "      <td>NO</td>\n",
              "      <td>NO</td>\n",
              "      <td>0</td>\n",
              "      <td>0</td>\n",
              "      <td>0.0</td>\n",
              "      <td>https://tiki.vn/laptop-lenovo-thinkpad-x1-yoga...</td>\n",
              "      <td>https://salt.tikicdn.com/cache/280x280/ts/prod...</td>\n",
              "    </tr>\n",
              "    <tr>\n",
              "      <th>283</th>\n",
              "      <td>Laptop - Máy Vi Tính - Linh kiện/Laptop/Laptop...</td>\n",
              "      <td>Laptop MSI GE66 Raider 10SF-044VN (Core i7-107...</td>\n",
              "      <td>52839000</td>\n",
              "      <td>54990000</td>\n",
              "      <td>4</td>\n",
              "      <td>YES</td>\n",
              "      <td>NO</td>\n",
              "      <td>NO</td>\n",
              "      <td>0</td>\n",
              "      <td>0</td>\n",
              "      <td>0.0</td>\n",
              "      <td>https://tiki.vn/laptop-msi-ge66-raider-10sf-04...</td>\n",
              "      <td>https://salt.tikicdn.com/cache/280x280/ts/prod...</td>\n",
              "    </tr>\n",
              "    <tr>\n",
              "      <th>270</th>\n",
              "      <td>Laptop - Máy Vi Tính - Linh kiện/Laptop</td>\n",
              "      <td>Laptop Lenovo ThinkPad X1 Yoga Gen 3 20LDS00M0...</td>\n",
              "      <td>52789000</td>\n",
              "      <td>54990000</td>\n",
              "      <td>4</td>\n",
              "      <td>YES</td>\n",
              "      <td>NO</td>\n",
              "      <td>NO</td>\n",
              "      <td>0</td>\n",
              "      <td>0</td>\n",
              "      <td>0.0</td>\n",
              "      <td>https://tiki.vn/laptop-lenovo-thinkpad-x1-yoga...</td>\n",
              "      <td>https://salt.tikicdn.com/cache/280x280/ts/prod...</td>\n",
              "    </tr>\n",
              "    <tr>\n",
              "      <th>274</th>\n",
              "      <td>Laptop - Máy Vi Tính - Linh kiện/Laptop/Laptop...</td>\n",
              "      <td>Laptop Asus ROG Zephyrus S GX502GV-AZ061T Core...</td>\n",
              "      <td>51379000</td>\n",
              "      <td>54990000</td>\n",
              "      <td>7</td>\n",
              "      <td>YES</td>\n",
              "      <td>NO</td>\n",
              "      <td>NO</td>\n",
              "      <td>0</td>\n",
              "      <td>0</td>\n",
              "      <td>0.0</td>\n",
              "      <td>https://tiki.vn/laptop-asus-rog-zephyrus-s-gx5...</td>\n",
              "      <td>https://salt.tikicdn.com/cache/280x280/ts/prod...</td>\n",
              "    </tr>\n",
              "  </tbody>\n",
              "</table>\n",
              "</div>"
            ],
            "text/plain": [
              "                                              Category  ...                                          Image_url\n",
              "217  Laptop - Máy Vi Tính - Linh kiện/Laptop/Laptop...  ...  https://salt.tikicdn.com/cache/280x280/ts/prod...\n",
              "337  Laptop - Máy Vi Tính - Linh kiện/Laptop/Laptop...  ...  https://salt.tikicdn.com/cache/280x280/ts/prod...\n",
              "173  Laptop - Máy Vi Tính - Linh kiện/Laptop/Laptop...  ...  https://salt.tikicdn.com/cache/280x280/ts/prod...\n",
              "463  Laptop - Máy Vi Tính - Linh kiện/Laptop/Laptop...  ...  https://salt.tikicdn.com/cache/280x280/ts/prod...\n",
              "84   Laptop - Máy Vi Tính - Linh kiện/Laptop/Laptop...  ...  https://salt.tikicdn.com/cache/280x280/ts/prod...\n",
              "370  Laptop - Máy Vi Tính - Linh kiện/Laptop/Laptop...  ...  https://salt.tikicdn.com/cache/280x280/ts/prod...\n",
              "653  Laptop - Máy Vi Tính - Linh kiện/Laptop/Laptop...  ...  https://salt.tikicdn.com/cache/280x280/ts/prod...\n",
              "283  Laptop - Máy Vi Tính - Linh kiện/Laptop/Laptop...  ...  https://salt.tikicdn.com/cache/280x280/ts/prod...\n",
              "270            Laptop - Máy Vi Tính - Linh kiện/Laptop  ...  https://salt.tikicdn.com/cache/280x280/ts/prod...\n",
              "274  Laptop - Máy Vi Tính - Linh kiện/Laptop/Laptop...  ...  https://salt.tikicdn.com/cache/280x280/ts/prod...\n",
              "\n",
              "[10 rows x 13 columns]"
            ]
          },
          "metadata": {
            "tags": []
          },
          "execution_count": 34
        }
      ]
    },
    {
      "cell_type": "code",
      "metadata": {
        "id": "mfTzLAL6AxGv",
        "colab_type": "code",
        "colab": {
          "base_uri": "https://localhost:8080/",
          "height": 781
        },
        "outputId": "e590ca66-aedc-439b-b5e9-09b108bab325"
      },
      "source": [
        "results.sort_values(by=['Final_price'], ascending=True)[:10]"
      ],
      "execution_count": null,
      "outputs": [
        {
          "output_type": "execute_result",
          "data": {
            "text/html": [
              "<div>\n",
              "<style scoped>\n",
              "    .dataframe tbody tr th:only-of-type {\n",
              "        vertical-align: middle;\n",
              "    }\n",
              "\n",
              "    .dataframe tbody tr th {\n",
              "        vertical-align: top;\n",
              "    }\n",
              "\n",
              "    .dataframe thead th {\n",
              "        text-align: right;\n",
              "    }\n",
              "</style>\n",
              "<table border=\"1\" class=\"dataframe\">\n",
              "  <thead>\n",
              "    <tr style=\"text-align: right;\">\n",
              "      <th></th>\n",
              "      <th>Category</th>\n",
              "      <th>Name</th>\n",
              "      <th>Final_price</th>\n",
              "      <th>Regular_price</th>\n",
              "      <th>Discount_percent</th>\n",
              "      <th>Installment</th>\n",
              "      <th>Cross_border</th>\n",
              "      <th>Sponsor</th>\n",
              "      <th>Reviews</th>\n",
              "      <th>Rating</th>\n",
              "      <th>Rating_by_stars</th>\n",
              "      <th>Url</th>\n",
              "      <th>Image_url</th>\n",
              "    </tr>\n",
              "  </thead>\n",
              "  <tbody>\n",
              "    <tr>\n",
              "      <th>9</th>\n",
              "      <td>Laptop - Máy Vi Tính - Linh kiện/Laptop</td>\n",
              "      <td>Laptop Asus E203MAH-FD004T Celeron N4000/Win10...</td>\n",
              "      <td>5199000</td>\n",
              "      <td>6090000</td>\n",
              "      <td>15</td>\n",
              "      <td>YES</td>\n",
              "      <td>NO</td>\n",
              "      <td>NO</td>\n",
              "      <td>20</td>\n",
              "      <td>66</td>\n",
              "      <td>3.3</td>\n",
              "      <td>https://tiki.vn/laptop-asus-e203mah-fd004t-cel...</td>\n",
              "      <td>https://salt.tikicdn.com/cache/280x280/ts/prod...</td>\n",
              "    </tr>\n",
              "    <tr>\n",
              "      <th>152</th>\n",
              "      <td>Laptop - Máy Vi Tính - Linh kiện/Laptop</td>\n",
              "      <td>Laptop Asus X441NA-GA070T Core N4200/Win 10 14...</td>\n",
              "      <td>6239000</td>\n",
              "      <td>8290000</td>\n",
              "      <td>25</td>\n",
              "      <td>YES</td>\n",
              "      <td>NO</td>\n",
              "      <td>NO</td>\n",
              "      <td>2</td>\n",
              "      <td>20</td>\n",
              "      <td>1.0</td>\n",
              "      <td>https://tiki.vn/laptop-asus-x441na-ga070t-core...</td>\n",
              "      <td>https://salt.tikicdn.com/cache/280x280/media/c...</td>\n",
              "    </tr>\n",
              "    <tr>\n",
              "      <th>321</th>\n",
              "      <td>Laptop - Máy Vi Tính - Linh kiện/Laptop</td>\n",
              "      <td>Laptop Asus VivoBook X441MA GA004T I ntel Pent...</td>\n",
              "      <td>6499000</td>\n",
              "      <td>7990000</td>\n",
              "      <td>19</td>\n",
              "      <td>YES</td>\n",
              "      <td>NO</td>\n",
              "      <td>NO</td>\n",
              "      <td>0</td>\n",
              "      <td>0</td>\n",
              "      <td>0.0</td>\n",
              "      <td>https://tiki.vn/laptop-asus-vivobook-x441ma-ga...</td>\n",
              "      <td>https://salt.tikicdn.com/cache/280x280/ts/prod...</td>\n",
              "    </tr>\n",
              "    <tr>\n",
              "      <th>102</th>\n",
              "      <td>Laptop - Máy Vi Tính - Linh kiện/Laptop</td>\n",
              "      <td>Laptop Asus VivoBook Max X441MA-GA023T Pentium...</td>\n",
              "      <td>6649000</td>\n",
              "      <td>7490000</td>\n",
              "      <td>11</td>\n",
              "      <td>YES</td>\n",
              "      <td>NO</td>\n",
              "      <td>NO</td>\n",
              "      <td>1</td>\n",
              "      <td>60</td>\n",
              "      <td>3.0</td>\n",
              "      <td>https://tiki.vn/laptop-asus-vivobook-max-x441m...</td>\n",
              "      <td>https://salt.tikicdn.com/cache/280x280/ts/prod...</td>\n",
              "    </tr>\n",
              "    <tr>\n",
              "      <th>223</th>\n",
              "      <td>Laptop - Máy Vi Tính - Linh kiện/Laptop/Laptop...</td>\n",
              "      <td>Laptop Acer Aspire 3 A315-34-C2H9 NX.HE3SV.005...</td>\n",
              "      <td>6790000</td>\n",
              "      <td>6990000</td>\n",
              "      <td>3</td>\n",
              "      <td>NO</td>\n",
              "      <td>NO</td>\n",
              "      <td>NO</td>\n",
              "      <td>2</td>\n",
              "      <td>100</td>\n",
              "      <td>5.0</td>\n",
              "      <td>https://tiki.vn/laptop-acer-aspire-3-a315-34-c...</td>\n",
              "      <td>https://salt.tikicdn.com/cache/280x280/ts/prod...</td>\n",
              "    </tr>\n",
              "    <tr>\n",
              "      <th>295</th>\n",
              "      <td>Laptop - Máy Vi Tính - Linh kiện/Laptop/Laptop...</td>\n",
              "      <td>Asus X507MA BR318T Intel N4000 _4GB _256GB SSD...</td>\n",
              "      <td>6790000</td>\n",
              "      <td>7990000</td>\n",
              "      <td>15</td>\n",
              "      <td>NO</td>\n",
              "      <td>NO</td>\n",
              "      <td>NO</td>\n",
              "      <td>1</td>\n",
              "      <td>80</td>\n",
              "      <td>4.0</td>\n",
              "      <td>https://tiki.vn/asus-x507ma-br318t-intel-n4000...</td>\n",
              "      <td>https://salt.tikicdn.com/cache/280x280/ts/prod...</td>\n",
              "    </tr>\n",
              "    <tr>\n",
              "      <th>357</th>\n",
              "      <td>Laptop - Máy Vi Tính - Linh kiện/Laptop/Laptop...</td>\n",
              "      <td>Laptop HP 14 CK0066TU (4ME76PA). Intel Pentium...</td>\n",
              "      <td>6990000</td>\n",
              "      <td>7990000</td>\n",
              "      <td>13</td>\n",
              "      <td>NO</td>\n",
              "      <td>NO</td>\n",
              "      <td>NO</td>\n",
              "      <td>0</td>\n",
              "      <td>0</td>\n",
              "      <td>0.0</td>\n",
              "      <td>https://tiki.vn/laptop-hp-14-ck0066tu-4me76pa-...</td>\n",
              "      <td>https://salt.tikicdn.com/cache/280x280/ts/prod...</td>\n",
              "    </tr>\n",
              "    <tr>\n",
              "      <th>421</th>\n",
              "      <td>Laptop - Máy Vi Tính - Linh kiện/Laptop</td>\n",
              "      <td>Laptop Asus X507MA-BR059T Pentium N5000/Win10 ...</td>\n",
              "      <td>6990000</td>\n",
              "      <td>7490000</td>\n",
              "      <td>7</td>\n",
              "      <td>NO</td>\n",
              "      <td>NO</td>\n",
              "      <td>NO</td>\n",
              "      <td>0</td>\n",
              "      <td>0</td>\n",
              "      <td>0.0</td>\n",
              "      <td>https://tiki.vn/laptop-asus-x507ma-br059t-pent...</td>\n",
              "      <td>https://salt.tikicdn.com/cache/280x280/ts/prod...</td>\n",
              "    </tr>\n",
              "    <tr>\n",
              "      <th>350</th>\n",
              "      <td>Laptop - Máy Vi Tính - Linh kiện/Laptop</td>\n",
              "      <td>Laptop Asus Vivobook X407MA-BV039T Pentium N50...</td>\n",
              "      <td>7090000</td>\n",
              "      <td>7590000</td>\n",
              "      <td>7</td>\n",
              "      <td>NO</td>\n",
              "      <td>NO</td>\n",
              "      <td>NO</td>\n",
              "      <td>5</td>\n",
              "      <td>96</td>\n",
              "      <td>4.8</td>\n",
              "      <td>https://tiki.vn/laptop-asus-vivobook-x407ma-bv...</td>\n",
              "      <td>https://salt.tikicdn.com/cache/280x280/ts/prod...</td>\n",
              "    </tr>\n",
              "    <tr>\n",
              "      <th>395</th>\n",
              "      <td>Laptop - Máy Vi Tính - Linh kiện/Laptop/Laptop...</td>\n",
              "      <td>Laptop Acer Aspire 3 A315-53-P3YE NX.H38SV.007...</td>\n",
              "      <td>7090000</td>\n",
              "      <td>7990000</td>\n",
              "      <td>11</td>\n",
              "      <td>NO</td>\n",
              "      <td>NO</td>\n",
              "      <td>NO</td>\n",
              "      <td>0</td>\n",
              "      <td>0</td>\n",
              "      <td>0.0</td>\n",
              "      <td>https://tiki.vn/laptop-acer-aspire-3-a315-53-p...</td>\n",
              "      <td>https://salt.tikicdn.com/cache/280x280/ts/prod...</td>\n",
              "    </tr>\n",
              "  </tbody>\n",
              "</table>\n",
              "</div>"
            ],
            "text/plain": [
              "                                              Category  ...                                          Image_url\n",
              "9              Laptop - Máy Vi Tính - Linh kiện/Laptop  ...  https://salt.tikicdn.com/cache/280x280/ts/prod...\n",
              "152            Laptop - Máy Vi Tính - Linh kiện/Laptop  ...  https://salt.tikicdn.com/cache/280x280/media/c...\n",
              "321            Laptop - Máy Vi Tính - Linh kiện/Laptop  ...  https://salt.tikicdn.com/cache/280x280/ts/prod...\n",
              "102            Laptop - Máy Vi Tính - Linh kiện/Laptop  ...  https://salt.tikicdn.com/cache/280x280/ts/prod...\n",
              "223  Laptop - Máy Vi Tính - Linh kiện/Laptop/Laptop...  ...  https://salt.tikicdn.com/cache/280x280/ts/prod...\n",
              "295  Laptop - Máy Vi Tính - Linh kiện/Laptop/Laptop...  ...  https://salt.tikicdn.com/cache/280x280/ts/prod...\n",
              "357  Laptop - Máy Vi Tính - Linh kiện/Laptop/Laptop...  ...  https://salt.tikicdn.com/cache/280x280/ts/prod...\n",
              "421            Laptop - Máy Vi Tính - Linh kiện/Laptop  ...  https://salt.tikicdn.com/cache/280x280/ts/prod...\n",
              "350            Laptop - Máy Vi Tính - Linh kiện/Laptop  ...  https://salt.tikicdn.com/cache/280x280/ts/prod...\n",
              "395  Laptop - Máy Vi Tính - Linh kiện/Laptop/Laptop...  ...  https://salt.tikicdn.com/cache/280x280/ts/prod...\n",
              "\n",
              "[10 rows x 13 columns]"
            ]
          },
          "metadata": {
            "tags": []
          },
          "execution_count": 35
        }
      ]
    },
    {
      "cell_type": "code",
      "metadata": {
        "id": "LLr7D7GonWmr",
        "colab_type": "code",
        "colab": {
          "base_uri": "https://localhost:8080/",
          "height": 457
        },
        "outputId": "2a3c73bf-c714-438a-b80a-3515247dc90a"
      },
      "source": [
        "sns.jointplot(x='Final_price', y='Regular_price', data=results)"
      ],
      "execution_count": null,
      "outputs": [
        {
          "output_type": "execute_result",
          "data": {
            "text/plain": [
              "<seaborn.axisgrid.JointGrid at 0x7fe6e9499208>"
            ]
          },
          "metadata": {
            "tags": []
          },
          "execution_count": 19
        },
        {
          "output_type": "display_data",
          "data": {
            "image/png": "[encoded data removed]",
            "text/plain": [
              "<Figure size 432x432 with 3 Axes>"
            ]
          },
          "metadata": {
            "tags": [],
            "needs_background": "light"
          }
        }
      ]
    },
    {
      "cell_type": "code",
      "metadata": {
        "id": "1e0ZhnqFpjPt",
        "colab_type": "code",
        "colab": {
          "base_uri": "https://localhost:8080/",
          "height": 307
        },
        "outputId": "d10cd4ad-392e-4dba-9be2-e533894080d3"
      },
      "source": [
        "sns.distplot(results['Regular_price'], bins=20)"
      ],
      "execution_count": null,
      "outputs": [
        {
          "output_type": "execute_result",
          "data": {
            "text/plain": [
              "<matplotlib.axes._subplots.AxesSubplot at 0x7fe6e6a33630>"
            ]
          },
          "metadata": {
            "tags": []
          },
          "execution_count": 33
        },
        {
          "output_type": "display_data",
          "data": {
            "image/png": "[encoded data removed]",
            "text/plain": [
              "<Figure size 432x288 with 1 Axes>"
            ]
          },
          "metadata": {
            "tags": [],
            "needs_background": "light"
          }
        }
      ]
    },
    {
      "cell_type": "code",
      "metadata": {
        "id": "sRF4EfkOrPfx",
        "colab_type": "code",
        "colab": {}
      },
      "source": [
        ""
      ],
      "execution_count": null,
      "outputs": []
    }
  ]
}